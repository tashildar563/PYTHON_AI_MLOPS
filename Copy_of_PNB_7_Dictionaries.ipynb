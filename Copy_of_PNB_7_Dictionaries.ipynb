{
  "nbformat": 4,
  "nbformat_minor": 0,
  "metadata": {
    "colab": {
      "provenance": [],
      "include_colab_link": true
    },
    "kernelspec": {
      "name": "python3",
      "display_name": "Python 3"
    },
    "language_info": {
      "name": "python"
    }
  },
  "cells": [
    {
      "cell_type": "markdown",
      "metadata": {
        "id": "view-in-github",
        "colab_type": "text"
      },
      "source": [
        "<a href=\"https://colab.research.google.com/github/tashildar563/PYTHON_AI_MLOPS/blob/python/Copy_of_PNB_7_Dictionaries.ipynb\" target=\"_parent\"><img src=\"https://colab.research.google.com/assets/colab-badge.svg\" alt=\"Open In Colab\"/></a>"
      ]
    },
    {
      "cell_type": "markdown",
      "source": [
        "## Practice Notebook"
      ],
      "metadata": {
        "id": "xT7BS95x1w-9"
      }
    },
    {
      "cell_type": "code",
      "source": [],
      "metadata": {
        "id": "W25_b4KyvwSd"
      },
      "execution_count": null,
      "outputs": []
    },
    {
      "cell_type": "markdown",
      "source": [
        "Dictionary is a composite datatype in the Python programming language. In a way, it is similar to lists. Lists are a collection of elements. Dictionaries are a collection of key, value pairs. Solutions to many programming problems can be easy and more concise with dictionaries. Here we explain all the important methods in the dictionary and some problem-solving with examples.\n",
        "\n",
        "Click [here](https://docs.python.org/3/library/stdtypes.html#mapping-types-dict) to go through official documentation on `dictionaries`."
      ],
      "metadata": {
        "id": "22fQfO2n3R4Z"
      }
    },
    {
      "cell_type": "markdown",
      "source": [
        "#### Exercise 1:\n",
        "From The dictionary created below, do the following:\n",
        "\n",
        "* Return a list of all the keys, using `list()` or `.keys()`.\n",
        "\n",
        "* Return the values of the dictionary using `.values()`.\n",
        "\n"
      ],
      "metadata": {
        "id": "J093ur414qXD"
      }
    },
    {
      "cell_type": "code",
      "execution_count": 12,
      "metadata": {
        "id": "2YqKC6m61rqZ"
      },
      "outputs": [],
      "source": [
        "dict1 = {\"Delhi\" : \"New Delhi\", \"Uttar Pradesh\" : \"Lucknow\",\"Madhya Pradesh\" : \"Bhopal\",\"Karnataka\" : \"Bengaluru\",\"Assam\" : \"Dispur\",\"Gujarat\" : \"Gandhinagar\"}"
      ]
    },
    {
      "cell_type": "code",
      "source": [
        "# YOUR CODE HERE\n",
        "print(list(dict1.keys()))"
      ],
      "metadata": {
        "id": "x9NwmHSE9tXz",
        "colab": {
          "base_uri": "https://localhost:8080/"
        },
        "outputId": "ef95669a-8b02-44fd-974d-7ae42be77bcd"
      },
      "execution_count": 3,
      "outputs": [
        {
          "output_type": "stream",
          "name": "stdout",
          "text": [
            "['Delhi', 'Uttar Pradesh', 'Madhya Pradesh', 'Karnataka', 'Assam', 'Gujarat']\n"
          ]
        }
      ]
    },
    {
      "cell_type": "code",
      "source": [
        "# YOUR CODE HERE\n",
        "print(list(dict1.values()))"
      ],
      "metadata": {
        "id": "K6JM6mps9zGR",
        "colab": {
          "base_uri": "https://localhost:8080/"
        },
        "outputId": "dc24eade-5944-429e-f937-9d5d469589c6"
      },
      "execution_count": 4,
      "outputs": [
        {
          "output_type": "stream",
          "name": "stdout",
          "text": [
            "['New Delhi', 'Lucknow', 'Bhopal', 'Bengaluru', 'Dispur', 'Gandhinagar']\n"
          ]
        }
      ]
    },
    {
      "cell_type": "markdown",
      "source": [
        "#### Exercise 2:\n",
        "From the dictionary created in Exercise 1-\n",
        "\n",
        "* Display the capital of Karnataka by retrieving the corresponding value for the key."
      ],
      "metadata": {
        "id": "-g9lEVYr7QNt"
      }
    },
    {
      "cell_type": "code",
      "source": [
        "# YOUR CODE HERE\n",
        "print(dict1.get('Karnataka'))"
      ],
      "metadata": {
        "id": "7ZCZO0ms7ILp",
        "colab": {
          "base_uri": "https://localhost:8080/"
        },
        "outputId": "587962d1-e126-4f66-d805-a55ff4e07525"
      },
      "execution_count": 5,
      "outputs": [
        {
          "output_type": "stream",
          "name": "stdout",
          "text": [
            "Bengaluru\n"
          ]
        }
      ]
    },
    {
      "cell_type": "markdown",
      "source": [
        "#### Exercise 3:\n",
        "\n",
        "Add (and print) a new element in the dictionary."
      ],
      "metadata": {
        "id": "HUJg6Y_w8K1c"
      }
    },
    {
      "cell_type": "code",
      "source": [
        "# YOUR CODE HERE\n",
        "dict1['Maharastra']='Mumbai'\n",
        "print(dict1)"
      ],
      "metadata": {
        "id": "kDeZ642qgy8_",
        "colab": {
          "base_uri": "https://localhost:8080/"
        },
        "outputId": "537dccf0-f1d1-4023-8742-2ba63b2e7b41"
      },
      "execution_count": 7,
      "outputs": [
        {
          "output_type": "stream",
          "name": "stdout",
          "text": [
            "{'Delhi': 'New Delhi', 'Uttar Pradesh': 'Lucknow', 'Madhya Pradesh': 'Bhopal', 'Karnataka': 'Bengaluru', 'Assam': 'Dispur', 'Gujarat': 'Gandhinagar', 'Maharastra': 'Mumbai'}\n"
          ]
        }
      ]
    },
    {
      "cell_type": "markdown",
      "source": [
        "####Exercise 4:\n",
        "\n",
        "- Return the length of the dictionary using `len()`.\n"
      ],
      "metadata": {
        "id": "7lf9Hxs9CFFc"
      }
    },
    {
      "cell_type": "code",
      "source": [
        "# YOUR CODE HERE\n",
        "print(len(dict1))"
      ],
      "metadata": {
        "id": "duut09pZB9F9",
        "colab": {
          "base_uri": "https://localhost:8080/"
        },
        "outputId": "fca0e066-5642-4dc0-bdcb-56f588d8e3e9"
      },
      "execution_count": 8,
      "outputs": [
        {
          "output_type": "stream",
          "name": "stdout",
          "text": [
            "7\n"
          ]
        }
      ]
    },
    {
      "cell_type": "markdown",
      "source": [
        "####Exercise 5:\n",
        "\n",
        "* Remove a key value pair from the dictionary.\n",
        "* Add the same key value pair again in the `dictionary`.\n",
        "* Display all the key-value pairs using `items()`."
      ],
      "metadata": {
        "id": "P-r0gerfEFyi"
      }
    },
    {
      "cell_type": "code",
      "source": [
        "# YOUR CODE HERE\n",
        "dict1.pop('Karnataka')\n",
        "print(dict1)\n",
        "dict1['Karnataka']='Bengaluru'\n",
        "print(dict1)"
      ],
      "metadata": {
        "id": "5JdipHYYIrzG",
        "colab": {
          "base_uri": "https://localhost:8080/"
        },
        "outputId": "8601cde4-c7db-4e82-d6b9-21b65bc0fb28"
      },
      "execution_count": 13,
      "outputs": [
        {
          "output_type": "stream",
          "name": "stdout",
          "text": [
            "{'Delhi': 'New Delhi', 'Uttar Pradesh': 'Lucknow', 'Madhya Pradesh': 'Bhopal', 'Assam': 'Dispur', 'Gujarat': 'Gandhinagar'}\n",
            "{'Delhi': 'New Delhi', 'Uttar Pradesh': 'Lucknow', 'Madhya Pradesh': 'Bhopal', 'Assam': 'Dispur', 'Gujarat': 'Gandhinagar', 'Karnataka': 'Bengaluru'}\n"
          ]
        }
      ]
    },
    {
      "cell_type": "code",
      "source": [
        "# YOUR CODE HERE\n",
        "for k,v in dict1.items():\n",
        "  print(k,v)"
      ],
      "metadata": {
        "id": "Z1rzWNkkEe1U",
        "colab": {
          "base_uri": "https://localhost:8080/"
        },
        "outputId": "7aa0d6b0-bb16-423f-9a5b-6c10ab2b7f9f"
      },
      "execution_count": 19,
      "outputs": [
        {
          "output_type": "stream",
          "name": "stdout",
          "text": [
            "Delhi New Delhi\n",
            "Uttar Pradesh Lucknow\n",
            "Madhya Pradesh Bhopal\n",
            "Assam Dispur\n",
            "Gujarat Gandhinagar\n",
            "Karnataka Bengaluru\n"
          ]
        }
      ]
    },
    {
      "cell_type": "code",
      "source": [
        "# YOUR CODE HERE\n",
        "sen_map={}"
      ],
      "metadata": {
        "id": "jtQVrlnzDI5Z"
      },
      "execution_count": 20,
      "outputs": []
    },
    {
      "cell_type": "code",
      "source": [
        "# YOUR CODE HERE"
      ],
      "metadata": {
        "id": "VM6oA8j6DaVF"
      },
      "execution_count": null,
      "outputs": []
    },
    {
      "cell_type": "code",
      "source": [
        "# YOUR CODE HERE"
      ],
      "metadata": {
        "id": "r33SZ8yyFE69"
      },
      "execution_count": null,
      "outputs": []
    },
    {
      "cell_type": "code",
      "source": [
        "# YOUR CODE HERE"
      ],
      "metadata": {
        "id": "60BUPAdHFSSj"
      },
      "execution_count": null,
      "outputs": []
    },
    {
      "cell_type": "markdown",
      "source": [
        "#### Exercise 6:\n",
        "\n",
        "Iterate over the keys of the dictionary using `for` and `.keys()` and print all the state capitals."
      ],
      "metadata": {
        "id": "O9LfCd_kL00L"
      }
    },
    {
      "cell_type": "code",
      "source": [
        "# YOUR CODE HERE"
      ],
      "metadata": {
        "id": "_jmS3h7qLq8I"
      },
      "execution_count": null,
      "outputs": []
    },
    {
      "cell_type": "markdown",
      "source": [
        "#### Exercise 7:\n",
        "\n",
        "* Initialize an empty dictionary ‘sen_map’.\n",
        "* Make the sentences all lower case.\n",
        "* Iterate over each word in the sentences.\n",
        "* Check if a word exists in the sen_map.\n",
        "* If not then add the word with a value of 1.\n",
        "* Otherwise, update the value of that word by 1."
      ],
      "metadata": {
        "id": "qvVSS8PSjDBT"
      }
    },
    {
      "cell_type": "code",
      "source": [
        "sents = \"TalentSprint is a digital platform designed to transform the lives of professionals in the new economy. Its blended bootcamps offer deeptech skills.\""
      ],
      "metadata": {
        "id": "NRHRUlggk4vs"
      },
      "execution_count": 22,
      "outputs": []
    },
    {
      "cell_type": "code",
      "source": [
        "# YOUR CODE HERE\n",
        "print(sents.lower())\n",
        "def sentenseWord(n:str)->str:\n",
        "  for i in sents.split(' '):\n",
        "    if n ==i:\n",
        "      print('word',n,\"present\")\n",
        "      break\n",
        "\n",
        "sentenseWord('to')\n"
      ],
      "metadata": {
        "id": "54llyHu8jNHC",
        "colab": {
          "base_uri": "https://localhost:8080/"
        },
        "outputId": "eac06a15-d909-4c55-ed16-b20b9179c423"
      },
      "execution_count": 35,
      "outputs": [
        {
          "output_type": "stream",
          "name": "stdout",
          "text": [
            "talentsprint is a digital platform designed to transform the lives of professionals in the new economy. its blended bootcamps offer deeptech skills.\n",
            "word to present\n"
          ]
        }
      ]
    },
    {
      "cell_type": "markdown",
      "source": [
        "#### Exercies 8:\n",
        "\n",
        "* Initialize an empty dictionary ‘counts’.\n",
        "* Define the following list names = ['Jack', 'John', 'Jill', 'John'].\n",
        "* Print the frequency count of elements in a list using a dictionary.\n",
        "* Using get method print the value of john.\n",
        "* Print a list of tuples containing the key-value pairs in ‘counts’.\n",
        "\n"
      ],
      "metadata": {
        "id": "T-D_DCUcPcqJ"
      }
    },
    {
      "cell_type": "code",
      "source": [
        "# YOUR CODE HERE"
      ],
      "metadata": {
        "id": "JAByE5_rPZmr"
      },
      "execution_count": null,
      "outputs": []
    },
    {
      "cell_type": "code",
      "source": [
        "# YOUR CODE HERE # The Python dictionary .get() method provides a convenient way of getting the value of a key from a dictionary"
      ],
      "metadata": {
        "id": "RghSmebepmLS"
      },
      "execution_count": null,
      "outputs": []
    },
    {
      "cell_type": "code",
      "source": [
        "# YOUR CODE HERE"
      ],
      "metadata": {
        "id": "iOBm5ICRmnNT"
      },
      "execution_count": null,
      "outputs": []
    }
  ]
}