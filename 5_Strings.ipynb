{
  "nbformat": 4,
  "nbformat_minor": 0,
  "metadata": {
    "colab": {
      "private_outputs": true,
      "provenance": [],
      "include_colab_link": true
    },
    "kernelspec": {
      "name": "python3",
      "display_name": "Python 3"
    },
    "language_info": {
      "name": "python"
    }
  },
  "cells": [
    {
      "cell_type": "markdown",
      "metadata": {
        "id": "view-in-github",
        "colab_type": "text"
      },
      "source": [
        "<a href=\"https://colab.research.google.com/github/tashildar563/PYTHON_AI_MLOPS/blob/python/5_Strings.ipynb\" target=\"_parent\"><img src=\"https://colab.research.google.com/assets/colab-badge.svg\" alt=\"Open In Colab\"/></a>"
      ]
    },
    {
      "cell_type": "code",
      "source": [
        "#@title Walkthrough Video\n",
        "from IPython.display import HTML\n",
        "HTML(\"\"\"<video width=\"620\" height=\"400\" controls>\n",
        "<source src=\"https://cdn.exec.talentsprint.com/content/6_Strings.mp4\">\n",
        "</video>\"\"\")"
      ],
      "metadata": {
        "cellView": "form",
        "id": "nBaeX6dZwaLr"
      },
      "execution_count": null,
      "outputs": []
    },
    {
      "cell_type": "markdown",
      "source": [
        "## Strings"
      ],
      "metadata": {
        "id": "_gZO4nxFlWw8"
      }
    },
    {
      "cell_type": "markdown",
      "source": [
        "As everything in python is an object , so are strings.\n",
        "\n",
        "Strings are **immutable sequence objects** where each character represents an element in the sequence.\n",
        "\n",
        "A basic example of a string is below:"
      ],
      "metadata": {
        "id": "86aZH_wmliwN"
      }
    },
    {
      "cell_type": "code",
      "execution_count": null,
      "metadata": {
        "id": "MzfAiDpTaWLr"
      },
      "outputs": [],
      "source": [
        "# Strings can be single quoted or double quoted\n",
        "a = \"Hello World !\"\n",
        "b = \"I'm happy to use python\"\n",
        "c = 'GVR says, \"Readability counts\" and python shines here'"
      ]
    },
    {
      "cell_type": "markdown",
      "source": [
        "Immutable in the case of strings means that once a string object is initialised in memory, We cannot change it, but we can still manipulate it with many built-in methods. but the original string object remains unchanged while a copy of it is returned. As a simple rule of thumb, any method that manipulates a string returns a copy of it."
      ],
      "metadata": {
        "id": "D8HPg4vlnkU7"
      }
    },
    {
      "cell_type": "code",
      "source": [
        "# Strings can also be triple quoted (with single quotes or double quotes)\n",
        "d = '''She said, \"Thank you! It's mine.\"'''\n",
        "e = \"\"\"Long long ago, in a galaxy far far away..\"\"\"\n",
        "print(d)"
      ],
      "metadata": {
        "id": "yA1amAiUkQzM"
      },
      "execution_count": null,
      "outputs": []
    },
    {
      "cell_type": "markdown",
      "source": [
        "### String Operations"
      ],
      "metadata": {
        "id": "_OfF7wW4nuLu"
      }
    },
    {
      "cell_type": "code",
      "source": [
        "# String Concatenation using '+' operator\n",
        "h = \"Hello\"\n",
        "w = \"world!\"\n",
        "hw = h + w\n",
        "print(hw)"
      ],
      "metadata": {
        "id": "XoPMri4aaZU-"
      },
      "execution_count": null,
      "outputs": []
    },
    {
      "cell_type": "code",
      "source": [
        "# String repetition\n",
        "h4s3w2 = 4 * h + \" \" * 3 + w * 2\n",
        "print(h4s3w2)"
      ],
      "metadata": {
        "id": "8X7ZeuyCajnj"
      },
      "execution_count": null,
      "outputs": []
    },
    {
      "cell_type": "markdown",
      "source": [
        "### Accessing characters in string"
      ],
      "metadata": {
        "id": "L15z7jn8pDpR"
      }
    },
    {
      "cell_type": "markdown",
      "source": [
        "You can access an element of string object (which is basically a character) by it's index, specified in a square brackets.\n",
        "\n"
      ],
      "metadata": {
        "id": "AO8X8so4pX0H"
      }
    },
    {
      "cell_type": "code",
      "source": [
        "a = \"Hello!\"\n",
        "b = a[1]\n",
        "print(b)"
      ],
      "metadata": {
        "id": "eqpaX1YRayiK"
      },
      "execution_count": null,
      "outputs": []
    },
    {
      "cell_type": "markdown",
      "source": [
        "The second statement in the above code extracts the character at index position 1 from the variable 'a' and assigns it to the variable 'b'.\n",
        "\n",
        "The expression in brackets is called an index. The index indicates which character in the sequence you want (hence the name)."
      ],
      "metadata": {
        "id": "wA5bkwuKqO7m"
      }
    },
    {
      "cell_type": "markdown",
      "source": [
        "Accessing characters/elements in a string by negative index number. Let's take a look at the below code sample:"
      ],
      "metadata": {
        "id": "R5Kk6GI6-59j"
      }
    },
    {
      "cell_type": "code",
      "source": [
        "a = \"Hello!\"\n",
        "b = a[-1] # Accessing the character of string \"Hello!\" at last index\n",
        "print(b)"
      ],
      "metadata": {
        "id": "_VX1WSk0a6OS"
      },
      "execution_count": null,
      "outputs": []
    },
    {
      "cell_type": "markdown",
      "source": [
        "The second statement in the above code will access the character of the string at last index position -1 from the variable 'a' and assign it to the variable 'b', You can use negative indices, which count backward from the end of the string. The expression a[-1] yields the last letter, a[-2] yields the second to last, and so on."
      ],
      "metadata": {
        "id": "6xPDwZsIASZx"
      }
    },
    {
      "cell_type": "markdown",
      "source": [
        "### A character too far"
      ],
      "metadata": {
        "id": "O-aZyIUDAruG"
      }
    },
    {
      "cell_type": "markdown",
      "source": [
        "What if you try to access the index of the character/element which is beyond the end of the string? Let's a look at the below code example:"
      ],
      "metadata": {
        "id": "Hq1EcJCKBPIo"
      }
    },
    {
      "cell_type": "code",
      "source": [
        "a = \"Hello!\"\n",
        "print(a[6]) # Trying to access the index position 6 which is beyond the string index"
      ],
      "metadata": {
        "id": "S5P9_MKaa9Jf"
      },
      "execution_count": null,
      "outputs": []
    },
    {
      "cell_type": "markdown",
      "source": [
        "The above code will throw **indexError** specifying string index out of range so need to be careful when constructing index values and slices."
      ],
      "metadata": {
        "id": "gxS2IPYaByRD"
      }
    },
    {
      "cell_type": "markdown",
      "source": [
        "### Getting the length of a string using `len`\n",
        "\n",
        "`len` is a built-in function that returns the number of characters in a\n",
        "string:"
      ],
      "metadata": {
        "id": "2UhW-Q19CYWe"
      }
    },
    {
      "cell_type": "code",
      "source": [
        "a = \"Hello!\"\n",
        "len(a)"
      ],
      "metadata": {
        "id": "ahe-qIc5bFJd"
      },
      "execution_count": null,
      "outputs": []
    },
    {
      "cell_type": "markdown",
      "source": [
        "### Traversal through a string with looping\n",
        "\n",
        "A lot of computations involve processing a string one character at a\n",
        "time. Often they start at the beginning, select each character in turn,\n",
        "do something to it, and continue until the end. This pattern of\n",
        "processing is called a *traversal*. One way to write a traversal is with\n",
        "a `while` loop:"
      ],
      "metadata": {
        "id": "L4AGcnmiChjI"
      }
    },
    {
      "cell_type": "code",
      "source": [
        "a = \"Hello!\"\n",
        "index = 0\n",
        "while index < len(a):\n",
        "    letter = a[index]\n",
        "    print(index, letter)\n",
        "    index = index + 1"
      ],
      "metadata": {
        "id": "9CV42YfYbH_1"
      },
      "execution_count": null,
      "outputs": []
    },
    {
      "cell_type": "markdown",
      "source": [
        "In the above code, the loop traverses through the string and displays each letter on a line by itself. The loop condition is `index < len(a)`, so when `index` is equal to the length of the string, the condition is false, and the body of the loop is not executed. The last character accessed is the one with the index `len(a)-1`, which is the last character in the string and we are printing the index and it's corresponding letter from the string."
      ],
      "metadata": {
        "id": "UrO5Xg9tDZN-"
      }
    },
    {
      "cell_type": "markdown",
      "source": [
        "Another way to write a traversal is with a `for` loop:"
      ],
      "metadata": {
        "id": "FxlO-hqFEZvP"
      }
    },
    {
      "cell_type": "code",
      "source": [
        "a = \"Hello!\"\n",
        "for ch in a:\n",
        "    print(ch)"
      ],
      "metadata": {
        "id": "TNiXApdDbZ3W"
      },
      "execution_count": null,
      "outputs": []
    },
    {
      "cell_type": "markdown",
      "source": [
        "In the above code, each time through the loop, the next character in the string is assigned to the variable 'ch'. The loop continues until no characters are left."
      ],
      "metadata": {
        "id": "m2VpYHIWFH_g"
      }
    },
    {
      "cell_type": "markdown",
      "source": [
        "### Looping and Counting"
      ],
      "metadata": {
        "id": "sw-z7c-nFYJO"
      }
    },
    {
      "cell_type": "markdown",
      "source": [
        "Now, let's take a look at the below program that counts the number of times the letter/character 'l' appears in a string:"
      ],
      "metadata": {
        "id": "InGNNyW5FetO"
      }
    },
    {
      "cell_type": "code",
      "source": [
        "a = \"Hello!\"\n",
        "count = 0\n",
        "for letter in a:\n",
        "    if letter == 'l':\n",
        "        count = count + 1\n",
        "print(count)"
      ],
      "metadata": {
        "id": "n2UuxfUubgf8"
      },
      "execution_count": null,
      "outputs": []
    },
    {
      "cell_type": "markdown",
      "source": [
        "This program demonstrates another pattern of computation called a\n",
        "*counter*. The variable `count` is initialized to 0 and then incremented\n",
        "each time an character \"l\" is found. When the loop exits, `count` contains the result: the total number of l's."
      ],
      "metadata": {
        "id": "fH9LzJnxFvz7"
      }
    },
    {
      "cell_type": "markdown",
      "source": [
        "### String Slicing\n",
        "\n",
        "Slicing means cutting a part out of something. In python, strings can be considered as an array where each character of string can be given an index position. Let's take a look at the below string:\n",
        "\n",
        "f = Hello World\n",
        "\n",
        "For the above string normal indexing — starts at 0 and ends at 10,\n",
        "negative indexing — starts at -1 (and from the end of the string) and ends to the start of string (-11)\n",
        "\n",
        "Selecting a slice is similar to selecting a character. Slicing follows the syntax given below:\n",
        "\n",
        "**str[start_index : end_index : increment]**"
      ],
      "metadata": {
        "id": "zQc-ru3iGLqm"
      }
    },
    {
      "cell_type": "markdown",
      "source": [
        "Let's take a look at the code example below:"
      ],
      "metadata": {
        "id": "bLPH-vLsJsek"
      }
    },
    {
      "cell_type": "code",
      "source": [
        "f = \"Hello World\"\n",
        "print(f[0:6])"
      ],
      "metadata": {
        "id": "SAQAg9Q1bxxq"
      },
      "execution_count": null,
      "outputs": []
    },
    {
      "cell_type": "markdown",
      "source": [
        "The output of the program is **Hello** and can be explained as below -\n",
        "\n",
        "`Start index` = 0, i.e. \"H\"\n",
        "\n",
        "`End index` = 6 — 1 = 5 (End index always is one less than the mentioned index)\n",
        "\n",
        "`Increment` = 1 (when not mentioned increment is 1 by default)"
      ],
      "metadata": {
        "id": "qtoOeOqrJxA4"
      }
    },
    {
      "cell_type": "markdown",
      "source": [
        "Let's take a look at another example:"
      ],
      "metadata": {
        "id": "seRCc6QSMWjB"
      }
    },
    {
      "cell_type": "code",
      "source": [
        "print(f[:3]) # Using indexing sequence"
      ],
      "metadata": {
        "id": "kgFnCkUlcQtC"
      },
      "execution_count": null,
      "outputs": []
    },
    {
      "cell_type": "markdown",
      "source": [
        "For the above code the syntax looks like this:\n",
        "\n",
        "`str[:stop]` = slicing the elelemts/characters of the string from the beginning through stop-1\n",
        "\n",
        "The above code outputs the slicing of the string from the begining till the (3 - 1) = 2 character."
      ],
      "metadata": {
        "id": "emgHrJGTMcFz"
      }
    },
    {
      "cell_type": "code",
      "source": [
        "print(f[3:])"
      ],
      "metadata": {
        "id": "ArwA2WAKcoA9"
      },
      "execution_count": null,
      "outputs": []
    },
    {
      "cell_type": "markdown",
      "source": [
        "For above code the syntax looks like this:\n",
        "\n",
        "`str[start:]` = slicing the elelemts/characters of the string from the start through the rest of the array."
      ],
      "metadata": {
        "id": "9sA9cS6ZNw6E"
      }
    },
    {
      "cell_type": "code",
      "source": [
        "print(f[1:-1])"
      ],
      "metadata": {
        "id": "AMEaQLj7cre6"
      },
      "execution_count": null,
      "outputs": []
    },
    {
      "cell_type": "markdown",
      "source": [
        "For the above code, the syntax looks like this:\n",
        "\n",
        "str[start:stop] = slicing starts from the beginning of the character/element and ends through stop-1\n",
        "\n",
        "The above code outputs the elements starting from the 1st character and ignores the last character in the string that is letter 'd'"
      ],
      "metadata": {
        "id": "XpywVOKAOebn"
      }
    },
    {
      "cell_type": "markdown",
      "source": [
        "### String Striding\n",
        "\n",
        "String striding in Python refers to extracting substrings from a string by specifying a step or stride value. This allows you to select specific characters at regular intervals within the string. The syntax for string striding is as follows:\n",
        "\n",
        "**string[start:end:step]**\n",
        "\n",
        "Here's an explanation of each component:\n",
        "\n",
        "**string:** The original string from which you want to extract substrings.\n",
        "\n",
        "**start:** The index at which to start the substring extraction (inclusive). If not specified, it defaults to the beginning of the string.\n",
        "\n",
        "**end:** The index at which to end the substring extraction (exclusive). If not specified, it defaults to the end of the string.\n",
        "\n",
        "**step:** The step value or stride, indicating the interval between characters to be included in the substring. A positive stride moves forward in the string, while a negative stride moves backward. If not specified, it defaults to 1.\n",
        "\n",
        "Now let's see some examples on string striding:"
      ],
      "metadata": {
        "id": "1R_ww46tPMNz"
      }
    },
    {
      "cell_type": "code",
      "source": [
        "f = 'Hello World'\n",
        "print(f[1::2])"
      ],
      "metadata": {
        "id": "pLMAV-3rczz2"
      },
      "execution_count": null,
      "outputs": []
    },
    {
      "cell_type": "markdown",
      "source": [
        "In the above code f[1::2] uses string striding to extract a substring from the string \"f\".\n",
        "\n",
        "`1 `indicates the start index of the substring. In this case, it starts at index 1, which corresponds to the letter 'e'.\n",
        "\n",
        "`::2` indicates the stride or step value. The 2 means to skip every second character.\n",
        "\n",
        "So, the resulting substring consists of characters starting from index 1 and selecting every second character thereafter."
      ],
      "metadata": {
        "id": "nSv7cE2Z8gNj"
      }
    },
    {
      "cell_type": "code",
      "source": [
        "print(f[::2])"
      ],
      "metadata": {
        "id": "jDUp3w1UdEVz"
      },
      "execution_count": null,
      "outputs": []
    },
    {
      "cell_type": "markdown",
      "source": [
        "f[::2] string striding to extract a substring from the string f.\n",
        "\n",
        "2 indicates the stride or step value. It means to select every second character from the string"
      ],
      "metadata": {
        "id": "w1SEUu6d9ccd"
      }
    },
    {
      "cell_type": "code",
      "source": [
        "print(f[::-1])"
      ],
      "metadata": {
        "id": "uzIWeK4HdSAF"
      },
      "execution_count": null,
      "outputs": []
    },
    {
      "cell_type": "markdown",
      "source": [
        "f[::-1]: `-1` indicates the stride or step value. A negative stride means the substring is extracted in reverse order.\n",
        "\n",
        "It output the string in reverse order `dlroW olleH`. The string is reversed because of the negative stride. Each character in the original string is included in reverse order."
      ],
      "metadata": {
        "id": "x2UQGFds90Zc"
      }
    },
    {
      "cell_type": "code",
      "source": [
        "print(f[1:10:2])"
      ],
      "metadata": {
        "id": "xR_J0tQbdW1P"
      },
      "execution_count": null,
      "outputs": []
    },
    {
      "cell_type": "markdown",
      "source": [
        "In the above code f[1:10:2]:\n",
        "\n",
        "`1` indicates the start index of the substring. In this case, it starts at index 1, which corresponds to the letter 'e'.\n",
        "\n",
        "`10` indicates the end index of the substring. It specifies the index up to which the substring extraction is done (exclusive). In this case, it ends at index 10, which corresponds to the letter 'd'.\n",
        "\n",
        "`2` indicates the stride or step value. It means to select every second character.\n",
        "\n"
      ],
      "metadata": {
        "id": "AOB6xY5C-hle"
      }
    },
    {
      "cell_type": "markdown",
      "source": [
        "### Updating Strings\n",
        "\n",
        "Strings are immutable which means that the existing string can't be changed. Let's take a look at the example code below:"
      ],
      "metadata": {
        "id": "_8wElGQ0OqsR"
      }
    },
    {
      "cell_type": "code",
      "source": [
        "f = 'Hello World!'\n",
        "f[0] = 'J'"
      ],
      "metadata": {
        "id": "DaFSUBGTddPF"
      },
      "execution_count": null,
      "outputs": []
    },
    {
      "cell_type": "markdown",
      "source": [
        "In the above code `f[0] = 'J'` line attempts to change the character at index 0 of the string `f` from 'H' to 'J'. However, it raises an error because strings in Python are immutable, meaning they cannot be modified in-place."
      ],
      "metadata": {
        "id": "MfnPFdm1QBm8"
      }
    },
    {
      "cell_type": "markdown",
      "source": [
        "Let's take look at the below code which can update existing string by reassigning a variable to another string."
      ],
      "metadata": {
        "id": "FQ7Aro4qQcJu"
      }
    },
    {
      "cell_type": "code",
      "source": [
        "f = 'Hello world!'\n",
        "f = 'J' + f[1:]\n",
        "print(f)"
      ],
      "metadata": {
        "id": "BDWZyHvOdqo3"
      },
      "execution_count": null,
      "outputs": []
    },
    {
      "cell_type": "markdown",
      "source": [
        "In the above code `f = 'J' + f[1:]` line creates a new string by concatenating the character 'J' with the substring `f[1:]`. The expression `f[1:]` selects the substring starting from index 1 (the second character) until the end of the string. By combining the character 'J' with the remaining substring, a new string `'Jello world!'` is created."
      ],
      "metadata": {
        "id": "wxy9q5gRQvR8"
      }
    },
    {
      "cell_type": "markdown",
      "source": [
        "### String built-in methods"
      ],
      "metadata": {
        "id": "5J5N6GPNQXxi"
      }
    },
    {
      "cell_type": "markdown",
      "source": [
        "`a.upper()` — This method returns the uppercase version of the string"
      ],
      "metadata": {
        "id": "rwMxAArpRQIR"
      }
    },
    {
      "cell_type": "code",
      "source": [
        "a = \"hello world\"\n",
        "b = a.upper()\n",
        "print(b)"
      ],
      "metadata": {
        "id": "SpV2fK5Td14D"
      },
      "execution_count": null,
      "outputs": []
    },
    {
      "cell_type": "markdown",
      "source": [
        "`a.lower()` — This method returns the lowercase version of the string"
      ],
      "metadata": {
        "id": "xgZeYukKRk2v"
      }
    },
    {
      "cell_type": "code",
      "source": [
        "a = \"hello world\"\n",
        "b = a.lower()\n",
        "print(b)"
      ],
      "metadata": {
        "id": "ax3pqp-DeIs8"
      },
      "execution_count": null,
      "outputs": []
    },
    {
      "cell_type": "markdown",
      "source": [
        "`a.find() `— This method searches for the given other string (not a regular expression) within 'a', and returns the first index where it begins or -1 if not found"
      ],
      "metadata": {
        "id": "ZAWQ5_HPRtUb"
      }
    },
    {
      "cell_type": "code",
      "source": [
        "a = \"Hello World\"\n",
        "a.find('r')"
      ],
      "metadata": {
        "id": "1skDjRiGeNvy"
      },
      "execution_count": null,
      "outputs": []
    },
    {
      "cell_type": "code",
      "source": [
        "a.find('lo')"
      ],
      "metadata": {
        "id": "aEBj1hoqhc8x"
      },
      "execution_count": null,
      "outputs": []
    },
    {
      "cell_type": "markdown",
      "source": [
        "`word.title()` - This method captalizes the first character of each word in the string."
      ],
      "metadata": {
        "id": "xo3QNEroSFQL"
      }
    },
    {
      "cell_type": "code",
      "source": [
        "word = \"HelloWorld\"\n",
        "print(word.title())"
      ],
      "metadata": {
        "id": "5j-MKPN5hjl6"
      },
      "execution_count": null,
      "outputs": []
    },
    {
      "cell_type": "markdown",
      "source": [
        "`word.capitalize()` - This method captalizes the first character of the string."
      ],
      "metadata": {
        "id": "GQL776TcSUVA"
      }
    },
    {
      "cell_type": "code",
      "source": [
        "word = \"hello\"\n",
        "print(word.capitalize())"
      ],
      "metadata": {
        "id": "JLdmyhq5hs2R"
      },
      "execution_count": null,
      "outputs": []
    },
    {
      "cell_type": "markdown",
      "source": [
        "`word.swapcase()` - This method allows to convert the uppercase characters in a string to lowercase and vice versa. It returns a new string with the case of each character swapped."
      ],
      "metadata": {
        "id": "lW6huxisS5BR"
      }
    },
    {
      "cell_type": "code",
      "source": [
        "word = \"Hello World\"\n",
        "print(word.swapcase())"
      ],
      "metadata": {
        "id": "SgIylzCsh-cf"
      },
      "execution_count": null,
      "outputs": []
    },
    {
      "cell_type": "markdown",
      "source": [
        "### The `in` operator\n",
        "\n",
        "The word `in` is a boolean operator that takes two strings and returns\n",
        "`True` if the first appears as a substring in the second:"
      ],
      "metadata": {
        "id": "wujwVUJnTJMI"
      }
    },
    {
      "cell_type": "code",
      "source": [
        "'a' in 'banana'"
      ],
      "metadata": {
        "id": "QTkUaCByiS1U"
      },
      "execution_count": null,
      "outputs": []
    },
    {
      "cell_type": "markdown",
      "source": [
        "In the above code if the character `'a'` is found in the string `'banana'` it will return the output as `True`"
      ],
      "metadata": {
        "id": "WAcc6jIqTSQ7"
      }
    },
    {
      "cell_type": "code",
      "source": [
        "'seed' in 'banana'"
      ],
      "metadata": {
        "id": "4fjeYrJ9ifBz"
      },
      "execution_count": null,
      "outputs": []
    },
    {
      "cell_type": "markdown",
      "source": [
        "In the above code if the substring/string `'seed'` is not found in the string `'banana'` it will return the output as `False`"
      ],
      "metadata": {
        "id": "IeBJMNhMTmxj"
      }
    },
    {
      "cell_type": "markdown",
      "source": [
        "Now, let's take a look at the below code example where the function is written which prints all the letters from word1 that also appear in word2."
      ],
      "metadata": {
        "id": "8KLJ2368T6-f"
      }
    },
    {
      "cell_type": "code",
      "source": [
        "def in_both(word1, word2):\n",
        "    for letter in word1:\n",
        "        if letter in word2:\n",
        "            print(letter)\n",
        "in_both('apples', 'oranges')"
      ],
      "metadata": {
        "id": "fU4riDpkip5D"
      },
      "execution_count": null,
      "outputs": []
    },
    {
      "cell_type": "markdown",
      "source": [
        "1. In the above code we define a function with name `in_both` which takes takes two parameters, `word1` and `word2`\n",
        "\n",
        "2. The second line `for letter in word1` initiates a loop that iterates over each character in the string word1.\n",
        "\n",
        "3. The third line `if letter in word2`checks if the current character, represented by the variable letter, is present in the string word2.\n",
        "\n",
        "4. `print(letter)` - If the character letter is found in word2, this line prints the character."
      ],
      "metadata": {
        "id": "blqGG2X4VQh-"
      }
    },
    {
      "cell_type": "markdown",
      "source": [
        "### String Methods"
      ],
      "metadata": {
        "id": "fIMqI8-0E1ct"
      }
    },
    {
      "cell_type": "markdown",
      "source": [
        "`startswith()` - This method checks whether the string starts with the substring and return a boolean value.\n"
      ],
      "metadata": {
        "id": "k23fOJvdWRuy"
      }
    },
    {
      "cell_type": "code",
      "source": [
        "'Hello World!'.startswith('Hello')"
      ],
      "metadata": {
        "id": "-T1ZF10ejMr0"
      },
      "execution_count": null,
      "outputs": []
    },
    {
      "cell_type": "code",
      "source": [
        "'Hello World!'.startswith('abcde')"
      ],
      "metadata": {
        "id": "IQj8so7ijcWF"
      },
      "execution_count": null,
      "outputs": []
    },
    {
      "cell_type": "markdown",
      "source": [
        "`a.index()` - This method is used to find the index of the first occurrence of a substring within a string. It returns the index position where the substring starts."
      ],
      "metadata": {
        "id": "pe4GIw0GXUpC"
      }
    },
    {
      "cell_type": "code",
      "source": [
        "a = 'Python Programming'\n",
        "print(a.index('Program'))"
      ],
      "metadata": {
        "id": "VepHx3FqjhR2"
      },
      "execution_count": null,
      "outputs": []
    },
    {
      "cell_type": "markdown",
      "source": [
        "In the above code the `index()` method is called on the string a with the argument `'Program'`. It searches for the substring `'Program'` within the string a. Since `'Program'` is present in string `a`, the method returns the index position of the start of the first occurrence of the substring."
      ],
      "metadata": {
        "id": "y3U3hqB2XvT_"
      }
    },
    {
      "cell_type": "markdown",
      "source": [
        "`a.count()` - This method return the number of times the substring is present in the string."
      ],
      "metadata": {
        "id": "m36zHyYlX7E3"
      }
    },
    {
      "cell_type": "code",
      "source": [
        "a = 'Python    Programming'\n",
        "print(a.count(\" \"))"
      ],
      "metadata": {
        "id": "sGkC7macjqgG"
      },
      "execution_count": null,
      "outputs": []
    },
    {
      "cell_type": "markdown",
      "source": [
        "In the above code `a.count(\" \")` counts the number of spaces present in the string a"
      ],
      "metadata": {
        "id": "_4tZGo5DYKeq"
      }
    },
    {
      "cell_type": "markdown",
      "source": [
        "`a.encode()` - This method is used to encode a string into a specified encoding format. If no encoding is specified, it uses the default encoding, which is usually UTF-8."
      ],
      "metadata": {
        "id": "TPdUfUmWZKnu"
      }
    },
    {
      "cell_type": "code",
      "source": [
        "a = \"My name is Ståle\"\n",
        "print(a.encode())"
      ],
      "metadata": {
        "id": "Vr9Wp7UDj4c4"
      },
      "execution_count": null,
      "outputs": []
    },
    {
      "cell_type": "markdown",
      "source": [
        "In the above code the line `a.encode()` encodes the string a using the default encoding and prints the encoded bytes."
      ],
      "metadata": {
        "id": "mM03IIT7aQ9j"
      }
    },
    {
      "cell_type": "markdown",
      "source": [
        "`center()` - This method adds padding characters on both sides of the original string to center it within the specified width. By default, the padding character is a space."
      ],
      "metadata": {
        "id": "7GZg_5VJakQx"
      }
    },
    {
      "cell_type": "code",
      "source": [
        "'Hello'.center(20)"
      ],
      "metadata": {
        "id": "qjeBP5BhkSEt"
      },
      "execution_count": null,
      "outputs": []
    },
    {
      "cell_type": "markdown",
      "source": [
        "`center(20)` is called on the string 'Hello'. The `center()` method is used to center a string within a specified width.\n",
        "\n",
        "`20` is the width specified. It represents the total number of characters the resulting string should occupy, including the original string and any additional padding characters."
      ],
      "metadata": {
        "id": "AdYxcDk-a47J"
      }
    },
    {
      "cell_type": "code",
      "source": [
        "'Hello'.center(20, '=')"
      ],
      "metadata": {
        "id": "AAT6uQ2FksC7"
      },
      "execution_count": null,
      "outputs": []
    },
    {
      "cell_type": "markdown",
      "source": [
        "In the above code, `.center(20, '=')` is a method call on the string object, using the center() method. This method takes two arguments: the **width** and the **fillchar**.\n",
        "\n",
        "`20` is the width argument, which specifies the total width of the resulting centered string.\n",
        "\n",
        "`'='` is the fillchar argument, which specifies the character used to fill the space on either side of the centered string. In this case, it's the equal sign \"=\".\n",
        "\n",
        "The `center()` method calculates the amount of space needed on either side of the string to center it within the specified width.\n",
        "\n",
        "It then adds the fillchar on both sides of the string to fill the remaining space, resulting in a centered string within a width of 20 characters."
      ],
      "metadata": {
        "id": "pWsKRHl9DSfQ"
      }
    },
    {
      "cell_type": "markdown",
      "source": [
        "`format()` - This method formats the specified values and insert them inside the string's placeholder. The placeholder is defined using curly brackets `{}`."
      ],
      "metadata": {
        "id": "5VAITEGiDt4e"
      }
    },
    {
      "cell_type": "code",
      "source": [
        "print(\"The sum of 1 + 2 is {0}\".format(1+2))"
      ],
      "metadata": {
        "id": "mNeohy-Hk2vm"
      },
      "execution_count": null,
      "outputs": []
    },
    {
      "cell_type": "markdown",
      "source": [
        "In the above code, `\"The sum of 1 + 2 is {0}\"` is a string that serves as the format template. It contains a placeholder `{0}` which indicates the position where the result of the addition operation will be inserted.\n",
        "\n",
        "`.format(1+2)` is a method call on the string object, using the `format()` method. This method takes one or more arguments and replaces the corresponding placeholders in the format template.\n",
        "\n",
        "`1+2` is the addition operation that evaluates to the value `3`. This is the value that will be inserted into the placeholder `{0}` in the format template.\n",
        "\n",
        "The `format()` method replaces `{0}` in the format template with the value `3`, resulting in the string `\"The sum of 1 + 2 is 3\"`."
      ],
      "metadata": {
        "id": "qiseSnkHENQJ"
      }
    },
    {
      "cell_type": "markdown",
      "source": [
        "### The join() and split() methods"
      ],
      "metadata": {
        "id": "XjJHLMehE6UV"
      }
    },
    {
      "cell_type": "markdown",
      "source": [
        "`join()` — This method joins the elements in the given list together using the string as the delimiter."
      ],
      "metadata": {
        "id": "Nx7QlqyhE_0q"
      }
    },
    {
      "cell_type": "code",
      "source": [
        "a = \"Hello World!\"\n",
        "b = '_'.join(a)\n",
        "print(b)"
      ],
      "metadata": {
        "id": "QVSiLnsulIaQ"
      },
      "execution_count": null,
      "outputs": []
    },
    {
      "cell_type": "markdown",
      "source": [
        "In the above code `b = '_'.join(a)` is a method call on the string object `a`. The `join()` method is used to concatenate the elements of an iterable (in this case, the characters of the string a) into a single string, with a specified delimiter.\n",
        "\n",
        "`'_'` is the delimiter passed as an argument to the `join()` method. It specifies that an underscore character should be placed between each character of the string.\n",
        "\n",
        "The `join()` method concatenates the characters of the string a using the underscore delimiter. It creates a new string where each character of a is separated by an underscore."
      ],
      "metadata": {
        "id": "g_00_seNFbhl"
      }
    },
    {
      "cell_type": "code",
      "source": [
        "' '.join(['My', 'name', 'is', 'Jack'])"
      ],
      "metadata": {
        "id": "Igcaa9ZNlZrF"
      },
      "execution_count": null,
      "outputs": []
    },
    {
      "cell_type": "markdown",
      "source": [
        "`a.split(‘delim’)` — This method returns a list of substrings separated by the given delimiter. The delimiter is not a regular expression, it’s just text. As a convenient special case a.split() (with no arguments) splits on all whitespace chars."
      ],
      "metadata": {
        "id": "tZk-pVm9G2pL"
      }
    },
    {
      "cell_type": "code",
      "source": [
        "a = \"Hello World!\"\n",
        "b = a.split(\" \")\n",
        "print(b)"
      ],
      "metadata": {
        "id": "V-nHAE_Flkew"
      },
      "execution_count": null,
      "outputs": []
    },
    {
      "cell_type": "markdown",
      "source": [
        "`a.strip() `— This method returns a string with whitespace removed from the start and end."
      ],
      "metadata": {
        "id": "UCmp7DEiHPDa"
      }
    },
    {
      "cell_type": "code",
      "source": [
        "a = \"    Hello World!    \"\n",
        "b = a.strip(\" \")\n",
        "print(b)"
      ],
      "metadata": {
        "id": "05okEDIIlwU8"
      },
      "execution_count": null,
      "outputs": []
    },
    {
      "cell_type": "markdown",
      "source": [
        "In the above code `b = a.strip(\" \")` is a method call on the string object `a`. The `strip()` method is used to remove leading and trailing characters from a string.\n",
        "\n",
        "`\" \"` is the argument passed to the `strip()` method. It specifies that leading and trailing spaces should be removed.\n",
        "\n",
        "The `strip()` method removes the leading and trailing spaces from the string `a`."
      ],
      "metadata": {
        "id": "sw5W6ONTHihB"
      }
    },
    {
      "cell_type": "markdown",
      "source": [
        "`a.lstrip()` - This method removes the blank space from the left side of the given string"
      ],
      "metadata": {
        "id": "qR44lOOjHvO0"
      }
    },
    {
      "cell_type": "code",
      "source": [
        "a = \"    Hello World    \"\n",
        "a.lstrip(\" \")"
      ],
      "metadata": {
        "id": "mgV_5E07l6fR"
      },
      "execution_count": null,
      "outputs": []
    },
    {
      "cell_type": "markdown",
      "source": [
        "In the above code `lstrip(\" \")` is a method call on the string object `a`, using the `lstrip()` method. This method removes leading characters from the left side of the string.\n",
        "\n",
        "`\" \"` is the argument passed to the `lstrip()` method. It specifies that leading spaces should be removed.\n",
        "\n",
        "The `lstrip()` method removes the leading spaces from the string a."
      ],
      "metadata": {
        "id": "p4iLbnZzH-P1"
      }
    },
    {
      "cell_type": "markdown",
      "source": [
        "`a.rstrip()` - This method removes the blank space from the rightside"
      ],
      "metadata": {
        "id": "khMxmMGtIbNO"
      }
    },
    {
      "cell_type": "code",
      "source": [
        "a = \"    Hello World    \"\n",
        "a.rstrip(\" \")"
      ],
      "metadata": {
        "id": "2Sl4CqVMmBJp"
      },
      "execution_count": null,
      "outputs": []
    },
    {
      "cell_type": "markdown",
      "source": [
        "In the above code, `.rstrip(\" \")` is a method call on the string object `a`, using the `rstrip()` method. This method removes trailing characters from the right side of the string.\n",
        "\n",
        "`\" \"` is the argument passed to the `rstrip()` method. It specifies that trailing spaces should be removed.\n",
        "\n",
        "The `rstrip()` method removes the trailing spaces from the string a."
      ],
      "metadata": {
        "id": "7VwlcoFLIog6"
      }
    },
    {
      "cell_type": "markdown",
      "source": [
        "### String comparison\n",
        "\n",
        "The comparison operators work on strings. To see if two strings are\n",
        "equal:"
      ],
      "metadata": {
        "id": "ryOuoamrI_29"
      }
    },
    {
      "cell_type": "code",
      "source": [
        "word = 'banana'\n",
        "if word == 'banana':\n",
        "    print('All right, bananas.')"
      ],
      "metadata": {
        "id": "uwo5b9KTmEBj"
      },
      "execution_count": null,
      "outputs": []
    },
    {
      "cell_type": "markdown",
      "source": [
        "Other comparison operations are useful by keeping words in alphabetical order:"
      ],
      "metadata": {
        "id": "Aq9_MrY_JRJr"
      }
    },
    {
      "cell_type": "code",
      "source": [
        "word = 'pineapple'\n",
        "if word < 'banana':\n",
        "    print('Your word, ' + word + ', comes before banana.')\n",
        "elif word > 'banana':\n",
        "    print('Your word, ' + word + ', comes after banana.')\n",
        "else:\n",
        "    print('All right, bananas.')"
      ],
      "metadata": {
        "id": "bXQL5CVAmWvA"
      },
      "execution_count": null,
      "outputs": []
    }
  ]
}