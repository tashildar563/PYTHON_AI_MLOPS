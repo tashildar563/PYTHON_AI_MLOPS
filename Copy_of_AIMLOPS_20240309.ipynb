{
  "nbformat": 4,
  "nbformat_minor": 0,
  "metadata": {
    "colab": {
      "private_outputs": true,
      "provenance": [],
      "include_colab_link": true
    },
    "kernelspec": {
      "name": "python3",
      "display_name": "Python 3"
    },
    "language_info": {
      "name": "python"
    }
  },
  "cells": [
    {
      "cell_type": "markdown",
      "metadata": {
        "id": "view-in-github",
        "colab_type": "text"
      },
      "source": [
        "<a href=\"https://colab.research.google.com/github/tashildar563/PYTHON_AI_MLOPS/blob/python/Copy_of_AIMLOPS_20240309.ipynb\" target=\"_parent\"><img src=\"https://colab.research.google.com/assets/colab-badge.svg\" alt=\"Open In Colab\"/></a>"
      ]
    },
    {
      "cell_type": "markdown",
      "source": [
        "# Prime check\n",
        "# 1..20"
      ],
      "metadata": {
        "id": "Cm8jPs0NPhi6"
      }
    },
    {
      "cell_type": "markdown",
      "source": [
        "# if $N$ = $a \\times b$\n",
        "\n",
        "and  \n",
        "\n",
        "# $a > \\sqrt{N} \\Rightarrow b < \\sqrt{N}$  \n",
        "\n",
        "# which means if a number has no factor below $\\sqrt{N}$ it **is** a prime"
      ],
      "metadata": {
        "id": "wLSjjh31UThA"
      }
    },
    {
      "cell_type": "code",
      "source": [],
      "metadata": {
        "id": "MpCEqEgOVjwX"
      },
      "execution_count": null,
      "outputs": []
    },
    {
      "cell_type": "markdown",
      "source": [
        "## $2520$ is the smallest number that can be divided by each of the numbers from $1$ to $10$ without any remainder.\n",
        "\n",
        "## What is the smallest positive number that is **evenly divisible** divisible with no remainder by all of the numbers from $1$ to $20$?\n"
      ],
      "metadata": {
        "id": "PJVDlZwgWqjz"
      }
    },
    {
      "cell_type": "code",
      "source": [
        "def gcd(a: int, b: int) -> int:\n",
        "    if a % b == 0:\n",
        "        return b\n",
        "    return gcd(b, a % b)"
      ],
      "metadata": {
        "id": "MJozzCWiW12P"
      },
      "execution_count": null,
      "outputs": []
    },
    {
      "cell_type": "code",
      "source": [
        "gcd(10, 15)"
      ],
      "metadata": {
        "id": "qil7akrKXbZN"
      },
      "execution_count": null,
      "outputs": []
    },
    {
      "cell_type": "code",
      "source": [
        "gcd(26, 65)"
      ],
      "metadata": {
        "id": "uW1U2PCvXcpu"
      },
      "execution_count": null,
      "outputs": []
    },
    {
      "cell_type": "code",
      "source": [
        "def lcm2(a: int, b: int) -> int:\n",
        "    return (a * b) // gcd(a, b)"
      ],
      "metadata": {
        "id": "jGMXTvhdXeqp"
      },
      "execution_count": null,
      "outputs": []
    },
    {
      "cell_type": "code",
      "source": [
        "lcm2(10, 15)"
      ],
      "metadata": {
        "id": "_QD7uny-Xnex"
      },
      "execution_count": null,
      "outputs": []
    },
    {
      "cell_type": "code",
      "source": [
        "lcm2(26, 65)"
      ],
      "metadata": {
        "id": "RTBn9GBUXpF4"
      },
      "execution_count": null,
      "outputs": []
    },
    {
      "cell_type": "code",
      "source": [
        "10 // 15"
      ],
      "metadata": {
        "id": "bXBCPurmXrFB"
      },
      "execution_count": null,
      "outputs": []
    },
    {
      "cell_type": "code",
      "source": [
        "10 % 15"
      ],
      "metadata": {
        "id": "ZE3HA2a8YVpL"
      },
      "execution_count": null,
      "outputs": []
    },
    {
      "cell_type": "code",
      "source": [
        "15 % 10"
      ],
      "metadata": {
        "id": "kxAw5bCcYWWi"
      },
      "execution_count": null,
      "outputs": []
    },
    {
      "cell_type": "code",
      "source": [
        "def gcd(a: int, b: int) -> int:\n",
        "    if a % b == 0:\n",
        "        return b\n",
        "    return gcd(b, a % b)\n",
        "\n",
        "def lcm2(a: int, b: int) -> int:\n",
        "    return (a * b) // gcd(a, b)\n",
        "\n",
        "def lcm(nums: list[int]) -> int:\n",
        "    if len(nums) == 1:\n",
        "        return nums[0]\n",
        "    elif len(nums) == 2:\n",
        "        return lcm2(nums[0], nums[1])\n",
        "    else:\n",
        "        # lcm2(lcm(nums[:-1]), nums[-1])\n",
        "        # lcm2(lcm2([nums[0], nums[1]]), lcm(nums[2:]))\n",
        "        # lcm(nums[:-2] + [lcm2(nums[-2], nums[-1])])\n",
        "        return lcm([lcm2(nums[0], nums[1])] + nums[2:])"
      ],
      "metadata": {
        "id": "LnhSCLbIYeyt"
      },
      "execution_count": null,
      "outputs": []
    },
    {
      "cell_type": "code",
      "source": [
        "[5] + [1, 2, 4]"
      ],
      "metadata": {
        "id": "NqxeVsiabqXf"
      },
      "execution_count": null,
      "outputs": []
    },
    {
      "cell_type": "code",
      "source": [
        "def alpha(ns: list[int]) -> int:\n",
        "    if len(ns) == 0:\n",
        "        return 0\n",
        "    elif len(ns) == 1:\n",
        "        return ns[0]\n",
        "    else:\n",
        "        return ns[0] + alpha(ns[1:])"
      ],
      "metadata": {
        "id": "8lKm3tHTdXoL"
      },
      "execution_count": null,
      "outputs": []
    },
    {
      "cell_type": "markdown",
      "source": [
        "# Reduce(f, S) -> Reduce(f, [f(S[0], S[1])] + S[2:])"
      ],
      "metadata": {
        "id": "INN1S22yd3a2"
      }
    },
    {
      "cell_type": "code",
      "source": [
        "from functools import reduce as fold"
      ],
      "metadata": {
        "id": "IwdXUq1edzTg"
      },
      "execution_count": null,
      "outputs": []
    },
    {
      "cell_type": "code",
      "source": [
        "def lcm(nums: list[int]) -> int:\n",
        "    return fold(lcm2, nums)"
      ],
      "metadata": {
        "id": "223S5Bfee0VW"
      },
      "execution_count": null,
      "outputs": []
    },
    {
      "cell_type": "code",
      "source": [
        "import functools as ft\n",
        "\n",
        "def gcd(a: int, b: int) -> int:\n",
        "    if a % b == 0:\n",
        "        return b\n",
        "    return gcd(b, a % b)\n",
        "\n",
        "def lcm2(a: int, b: int) -> int:\n",
        "    return (a * b) // gcd(a, b)\n",
        "\n",
        "def lcm(nums: list[int]) -> int:\n",
        "    return ft.reduce(lcm2, nums)"
      ],
      "metadata": {
        "id": "f8P_15JOfE8d"
      },
      "execution_count": null,
      "outputs": []
    },
    {
      "cell_type": "code",
      "source": [
        "lcm(range(1, 11))"
      ],
      "metadata": {
        "id": "eQdcC_X9fVGd"
      },
      "execution_count": null,
      "outputs": []
    },
    {
      "cell_type": "code",
      "source": [
        "lcm(range(1, 21))"
      ],
      "metadata": {
        "id": "g5rwkWnnfYQL"
      },
      "execution_count": null,
      "outputs": []
    },
    {
      "cell_type": "code",
      "source": [
        "ft.reduce?"
      ],
      "metadata": {
        "id": "DaRaFOZVfcAp"
      },
      "execution_count": null,
      "outputs": []
    },
    {
      "cell_type": "code",
      "source": [
        "def digits_to_num(digits: list[int]) -> int:\n",
        "    return ft.reduce(lambda x, y: 10 * x + y, digits)"
      ],
      "metadata": {
        "id": "49ea2qJ4hkbE"
      },
      "execution_count": null,
      "outputs": []
    },
    {
      "cell_type": "code",
      "source": [
        "digits_to_num([1, 8, 2, 9, 3])"
      ],
      "metadata": {
        "id": "ZM9lReoyiCnr"
      },
      "execution_count": null,
      "outputs": []
    },
    {
      "cell_type": "markdown",
      "source": [
        "# Code reading and rewriting"
      ],
      "metadata": {
        "id": "ibOR4m-TiF0N"
      }
    },
    {
      "cell_type": "code",
      "source": [
        "def myfunc(a):\n",
        "    empty=[]\n",
        "    for i in range(len(a)):\n",
        "        if i%2==0:\n",
        "            empty.append(a[i].upper())\n",
        "        else:\n",
        "            empty.append(a[i].lower())\n",
        "\n",
        "    return \"\".join(empty)"
      ],
      "metadata": {
        "id": "mnBbx_Akir9a"
      },
      "execution_count": null,
      "outputs": []
    },
    {
      "cell_type": "code",
      "source": [
        "def convert(pos: int, ch: str):\n",
        "    return ch.upper() if pos % 2 == 0 else ch.lower()\n",
        "\n",
        "def alt_case(s: str) -> str:\n",
        "    return ''.join([convert(i, ch) for i, ch in enumerate(s)])"
      ],
      "metadata": {
        "id": "pLOc8Qbgivn3"
      },
      "execution_count": null,
      "outputs": []
    },
    {
      "cell_type": "code",
      "source": [
        "alt_case(\"Hello refactoring!\")"
      ],
      "metadata": {
        "id": "o6Q1rag2ssmD"
      },
      "execution_count": null,
      "outputs": []
    },
    {
      "cell_type": "code",
      "source": [
        "def alt_Case(s: str) -> str:\n",
        "    cases = [str.upper, str.lower]\n",
        "    return ''.join([cases[i%2](ch) for i, ch in enumerate(s)])\n",
        "    # return ''.join(cases[i%2](ch) for i, ch in enumerate(s))\n",
        "    # return ''.join([str.upper, str.lower][i % 2](ch) for i, ch in enumerate(s))"
      ],
      "metadata": {
        "id": "-gYjrc41sv0d"
      },
      "execution_count": null,
      "outputs": []
    },
    {
      "cell_type": "code",
      "source": [
        "alt_Case(\"Python functions are first class!!!\")"
      ],
      "metadata": {
        "id": "Fz4Vk3J6tK2u"
      },
      "execution_count": null,
      "outputs": []
    },
    {
      "cell_type": "code",
      "source": [
        "enumerate(\"Hello\")"
      ],
      "metadata": {
        "id": "ZsYXL6EXtPYN"
      },
      "execution_count": null,
      "outputs": []
    },
    {
      "cell_type": "code",
      "source": [
        "list(enumerate(\"Hello\"))"
      ],
      "metadata": {
        "id": "oz-ymRlauwSB"
      },
      "execution_count": null,
      "outputs": []
    },
    {
      "cell_type": "code",
      "source": [
        "cases = [str.upper, str.lower]"
      ],
      "metadata": {
        "id": "79FzELWou9SD"
      },
      "execution_count": null,
      "outputs": []
    },
    {
      "cell_type": "code",
      "source": [
        "cases[0]"
      ],
      "metadata": {
        "id": "1s4fMdvIvpiZ"
      },
      "execution_count": null,
      "outputs": []
    },
    {
      "cell_type": "code",
      "source": [
        "cases[1]"
      ],
      "metadata": {
        "id": "7txdIXe5vqga"
      },
      "execution_count": null,
      "outputs": []
    },
    {
      "cell_type": "code",
      "source": [
        "cases[0]('h')"
      ],
      "metadata": {
        "id": "0_zhYWg9vr3r"
      },
      "execution_count": null,
      "outputs": []
    },
    {
      "cell_type": "code",
      "source": [
        "\"H\".lower()"
      ],
      "metadata": {
        "id": "uiPO7IEtvuZi"
      },
      "execution_count": null,
      "outputs": []
    },
    {
      "cell_type": "code",
      "source": [
        "str.lower(\"H\")"
      ],
      "metadata": {
        "id": "so-kxTk9wu6K"
      },
      "execution_count": null,
      "outputs": []
    },
    {
      "cell_type": "code",
      "source": [
        "''.join(['a', 'b', 'c'])"
      ],
      "metadata": {
        "id": "WgFOFKZ2wzDq"
      },
      "execution_count": null,
      "outputs": []
    },
    {
      "cell_type": "code",
      "source": [
        "'+'.join(['a', 'b', 'c'])"
      ],
      "metadata": {
        "id": "MbS_f8drxIk2"
      },
      "execution_count": null,
      "outputs": []
    },
    {
      "cell_type": "code",
      "source": [
        "\"Hello\".join([\"a\", \"p\", \"x\"])"
      ],
      "metadata": {
        "id": "MZH4Io1BxL8B"
      },
      "execution_count": null,
      "outputs": []
    },
    {
      "cell_type": "code",
      "source": [
        "concat = ''.join"
      ],
      "metadata": {
        "id": "E5bi4e_CxQ8G"
      },
      "execution_count": null,
      "outputs": []
    },
    {
      "cell_type": "code",
      "source": [
        "concat([\"A\", \"B\", \"C\"])"
      ],
      "metadata": {
        "id": "7oT5-_iyxaWL"
      },
      "execution_count": null,
      "outputs": []
    },
    {
      "cell_type": "code",
      "source": [
        "spacer = ' '.join"
      ],
      "metadata": {
        "id": "NFFrDX-fxgp9"
      },
      "execution_count": null,
      "outputs": []
    },
    {
      "cell_type": "code",
      "source": [
        "spacer([\"Hello\", \"Python\"])"
      ],
      "metadata": {
        "id": "h6KTDgP8x0KA"
      },
      "execution_count": null,
      "outputs": []
    },
    {
      "cell_type": "code",
      "source": [
        "def list_comprehension_as_for(f, s: list) -> list:\n",
        "    new_s = []\n",
        "    for item in s:\n",
        "        new_s.append(f(item))\n",
        "    return new_s\n",
        "# Same as\n",
        "#   [f(item) for item in s]"
      ],
      "metadata": {
        "id": "NWhdSp4yx5A6"
      },
      "execution_count": null,
      "outputs": []
    },
    {
      "cell_type": "code",
      "source": [
        "def list_comprehension_with_filter_as_for(f, cond, s: list) -> list:\n",
        "    new_s = []\n",
        "    for item in s:\n",
        "        if cond(item):\n",
        "            new_s.append(f(item))\n",
        "    return new_s\n",
        "# Same as\n",
        "#   [f(item) for item in s if cond(item)]"
      ],
      "metadata": {
        "id": "uaBh24HYy6AB"
      },
      "execution_count": null,
      "outputs": []
    },
    {
      "cell_type": "markdown",
      "source": [],
      "metadata": {
        "id": "rFzTd1qbzfLL"
      }
    },
    {
      "cell_type": "markdown",
      "source": [
        "# FIZZBUZZ\n"
      ],
      "metadata": {
        "id": "RheT4txyzQ3f"
      }
    },
    {
      "cell_type": "code",
      "source": [
        "def make_fizzbuzz(f, limit: int) -> list[str]:\n",
        "    #return [f(_) for _ in range(1, limit)]\n",
        "    return [f(k) for k in range(1, limit)]"
      ],
      "metadata": {
        "id": "v7srlS3P1bZO"
      },
      "execution_count": null,
      "outputs": []
    },
    {
      "cell_type": "code",
      "source": [
        "def fizzbuzz1(n: int) -> str:\n",
        "    if n % 15 == 0:\n",
        "        return \"FIZZBUZZ\"\n",
        "    elif n % 3 == 0:\n",
        "        return \"FIZZ\"\n",
        "    elif n % 5 == 0:\n",
        "        return \"BUZZ\"\n",
        "    else:\n",
        "        return str(n)"
      ],
      "metadata": {
        "id": "YfcERvt81tHa"
      },
      "execution_count": null,
      "outputs": []
    },
    {
      "cell_type": "code",
      "source": [
        "print(make_fizzbuzz(fizzbuzz1, 16))"
      ],
      "metadata": {
        "id": "7AC1tcKP2EpJ"
      },
      "execution_count": null,
      "outputs": []
    },
    {
      "cell_type": "code",
      "source": [
        "type(cases)"
      ],
      "metadata": {
        "id": "SX37840X2JXN"
      },
      "execution_count": null,
      "outputs": []
    },
    {
      "cell_type": "code",
      "source": [
        "type(cases[0])"
      ],
      "metadata": {
        "id": "8R7aG7cP3gSc"
      },
      "execution_count": null,
      "outputs": []
    },
    {
      "cell_type": "code",
      "source": [
        "def fizzbuzz2(n: int) -> str:\n",
        "    fb = ''\n",
        "    if n % 3 == 0:\n",
        "        fb += \"FIZZ\"\n",
        "    if n % 5 == 0:\n",
        "        fb += \"BUZZ\"\n",
        "    if len(fb) == 0:\n",
        "        return str(n)\n",
        "    else:\n",
        "        return fb"
      ],
      "metadata": {
        "id": "CaE7BTW93jUm"
      },
      "execution_count": null,
      "outputs": []
    },
    {
      "cell_type": "code",
      "source": [
        "print(make_fizzbuzz(fizzbuzz2, 16))"
      ],
      "metadata": {
        "id": "hIXVSGU35GnA"
      },
      "execution_count": null,
      "outputs": []
    },
    {
      "cell_type": "code",
      "source": [
        "# Needs more work to get this flexibility\n",
        "\n",
        "def fizzbuzz3(divisors: dict, n: int) -> str:\n",
        "    fb = ''\n",
        "    for d in sorted(divisors.keys()):\n",
        "        if n % d == 0:\n",
        "            fb += divisors[d]\n",
        "    if len(fb) == 0:\n",
        "    #if fb == \"\":\n",
        "        return str(n)\n",
        "    else:\n",
        "        return fb\n"
      ],
      "metadata": {
        "id": "LwxC9QcK5hgk"
      },
      "execution_count": null,
      "outputs": []
    },
    {
      "cell_type": "code",
      "source": [
        "def fizzbuzz4(n: int) -> str:\n",
        "    fbs = [\"FIZZBUZZ\", \"\", \"\", \"FIZZ\", \"\", \"BUZZ\", \"FIZZ\", \"\", \"\", \"FIZZ\", \"BUZZ\",\n",
        "           \"\", \"FIZZ\", \"\", \"\"]\n",
        "    pos = n % 15\n",
        "    if fbs[pos] == \"\":\n",
        "        return str(n)\n",
        "    else:\n",
        "        return fbs[pos]"
      ],
      "metadata": {
        "id": "yrGbycvL7Yoo"
      },
      "execution_count": null,
      "outputs": []
    },
    {
      "cell_type": "code",
      "source": [
        "make_fizzbuzz(fizzbuzz4, 31)"
      ],
      "metadata": {
        "id": "jJ6Mr0zd80PB"
      },
      "execution_count": null,
      "outputs": []
    },
    {
      "cell_type": "code",
      "source": [
        "def fizzbuzz5(n: int, a = 3, b = 5) -> str:\n",
        "    fbs = {(True, True):   \"FIZZBUZZ\",\n",
        "           (True, False):  \"FIZZ\",\n",
        "           (False, True):  \"BUZZ\",\n",
        "           (False, False): str(n)}\n",
        "    return fbs[(n % a == 0, n % b == 0)]"
      ],
      "metadata": {
        "id": "0DsQt_LZ9OYi"
      },
      "execution_count": null,
      "outputs": []
    },
    {
      "cell_type": "code",
      "source": [
        "fizzbuzz5(12)"
      ],
      "metadata": {
        "id": "UIe2-3fu-EdA"
      },
      "execution_count": null,
      "outputs": []
    },
    {
      "cell_type": "code",
      "source": [
        "print(make_fizzbuzz(fizzbuzz5, 30))"
      ],
      "metadata": {
        "id": "gmgjlVw_-L3X"
      },
      "execution_count": null,
      "outputs": []
    },
    {
      "cell_type": "code",
      "source": [
        "def pick(n: int) -> int:\n",
        "    return 2 * int(n % 5 == 0) + int(n % 3 == 0)\n",
        "\n",
        "def fizzbuzz6(n: int) -> str:\n",
        "    return [str(n), \"FIZZ\", \"BUZZ\", \"FIZZBUZZ\"][pick(n)]"
      ],
      "metadata": {
        "id": "KcVTRC1d-R5e"
      },
      "execution_count": null,
      "outputs": []
    },
    {
      "cell_type": "code",
      "source": [
        "print(make_fizzbuzz(fizzbuzz6, 16))"
      ],
      "metadata": {
        "id": "Qu4T4TS3AcMA"
      },
      "execution_count": null,
      "outputs": []
    },
    {
      "cell_type": "code",
      "source": [
        "def make_fizzbuzz2(limit: int) -> list[str]:\n",
        "    fbs = [str(n) for n in range(limit)]\n",
        "    fbs[3::3] = [\"FIZZ\"] * len(fbs[3::3])\n",
        "    fbs[5::5] = [\"BUZZ\"] * len(fbs[3::5])\n",
        "    fbs[15::15] = [\"FIZZBUZZ\"] * len(fbs[15::15])\n",
        "    return fbs[1:]"
      ],
      "metadata": {
        "id": "1cMRDOmdAjRY"
      },
      "execution_count": null,
      "outputs": []
    },
    {
      "cell_type": "code",
      "source": [
        "print(make_fizzbuzz2(31))"
      ],
      "metadata": {
        "id": "mmyvyB5LDpXe"
      },
      "execution_count": null,
      "outputs": []
    },
    {
      "cell_type": "code",
      "source": [
        "fbs = list(range(16))"
      ],
      "metadata": {
        "id": "0kp8BjSqDtmW"
      },
      "execution_count": null,
      "outputs": []
    },
    {
      "cell_type": "code",
      "source": [
        "fbs[::3]"
      ],
      "metadata": {
        "id": "FpoVtR1aEhO_"
      },
      "execution_count": null,
      "outputs": []
    },
    {
      "cell_type": "code",
      "source": [
        "len(fbs[::3])"
      ],
      "metadata": {
        "id": "AdC9IX_1Ei21"
      },
      "execution_count": null,
      "outputs": []
    },
    {
      "cell_type": "code",
      "source": [
        "[\"FIZZ\"] * len(fbs[::3])"
      ],
      "metadata": {
        "id": "Poj7PgYFElTW"
      },
      "execution_count": null,
      "outputs": []
    },
    {
      "cell_type": "code",
      "source": [
        "fbs[::3] = [\"FIZZ\"] * len(fbs[::3])"
      ],
      "metadata": {
        "id": "34h2VbokEs9l"
      },
      "execution_count": null,
      "outputs": []
    },
    {
      "cell_type": "code",
      "source": [
        "fbs"
      ],
      "metadata": {
        "id": "iwJS4J_KEyNl"
      },
      "execution_count": null,
      "outputs": []
    },
    {
      "cell_type": "markdown",
      "source": [],
      "metadata": {
        "id": "rsI3l3pWLbt4"
      }
    },
    {
      "cell_type": "code",
      "source": [
        "import itertools as it\n",
        "\n",
        "def select(t: tuple) -> bool:\n",
        "    return sum(t) == 0\n",
        "\n",
        "def problem(nums: list) -> set[tuple]:\n",
        "    return {t for t in it.combinations(nums, 3) if select(t)}"
      ],
      "metadata": {
        "id": "5xBVInB7QQZk"
      },
      "execution_count": null,
      "outputs": []
    },
    {
      "cell_type": "markdown",
      "source": [
        "# Euler 8\n"
      ],
      "metadata": {
        "id": "JuylUQurbhio"
      }
    },
    {
      "cell_type": "code",
      "source": [
        "euler8 = '73167176531330624919225119674426574742355349194934\\\n",
        "96983520312774506326239578318016984801869478851843\\\n",
        "85861560789112949495459501737958331952853208805511\\\n",
        "12540698747158523863050715693290963295227443043557\\\n",
        "66896648950445244523161731856403098711121722383113\\\n",
        "62229893423380308135336276614282806444486645238749\\\n",
        "30358907296290491560440772390713810515859307960866\\\n",
        "70172427121883998797908792274921901699720888093776\\\n",
        "65727333001053367881220235421809751254540594752243\\\n",
        "52584907711670556013604839586446706324415722155397\\\n",
        "53697817977846174064955149290862569321978468622482\\\n",
        "83972241375657056057490261407972968652414535100474\\\n",
        "82166370484403199890008895243450658541227588666881\\\n",
        "16427171479924442928230863465674813919123162824586\\\n",
        "17866458359124566529476545682848912883142607690042\\\n",
        "24219022671055626321111109370544217506941658960408\\\n",
        "07198403850962455444362981230987879927244284909188\\\n",
        "84580156166097919133875499200524063689912560717606\\\n",
        "05886116467109405077541002256983155200055935729725\\\n",
        "71636269561882670428252483600823257530420752963450'"
      ],
      "metadata": {
        "id": "dG0TNrLKcY4N"
      },
      "execution_count": null,
      "outputs": []
    },
    {
      "cell_type": "code",
      "source": [
        "len(euler8)"
      ],
      "metadata": {
        "id": "KM_CQzyccie_"
      },
      "execution_count": null,
      "outputs": []
    },
    {
      "cell_type": "code",
      "source": [
        "def prod(s: str) -> int:\n",
        "    if '0' in s:\n",
        "        return 0\n",
        "    p = 1\n",
        "    for ch in s:\n",
        "        p *= int(ch)\n",
        "    return p"
      ],
      "metadata": {
        "id": "k083OCagcnGl"
      },
      "execution_count": null,
      "outputs": []
    },
    {
      "cell_type": "code",
      "source": [
        "prod('7256')"
      ],
      "metadata": {
        "id": "jspFw4f2c92X"
      },
      "execution_count": null,
      "outputs": []
    },
    {
      "cell_type": "code",
      "source": [
        "def euler008(s: str, step: int) -> tuple:\n",
        "    max_prod = 0\n",
        "    max_window_start = 0\n",
        "    for start in range(1 + len(s) - step):\n",
        "        window = s[start: start + step]\n",
        "        w_prod = prod(window)\n",
        "        if max_prod < w_prod:\n",
        "            max_prod = w_prod\n",
        "            max_window_start = start\n",
        "    return s[max_window_start:max_window_start + step], max_prod\n"
      ],
      "metadata": {
        "id": "3yPNcpN4c_CY"
      },
      "execution_count": null,
      "outputs": []
    },
    {
      "cell_type": "code",
      "source": [
        "sample = \"ABCDEFGHI\"\n",
        "step = 4\n",
        "for i in range(1 + len(sample) - step):\n",
        "    print(sample[i: i + step])"
      ],
      "metadata": {
        "id": "SXlp1rLfeBSJ"
      },
      "execution_count": null,
      "outputs": []
    },
    {
      "cell_type": "code",
      "source": [
        "print(euler008(euler8, 4))"
      ],
      "metadata": {
        "id": "SbMfN8GAf3JH"
      },
      "execution_count": null,
      "outputs": []
    },
    {
      "cell_type": "code",
      "source": [
        "print(euler008(euler8, 13))"
      ],
      "metadata": {
        "id": "ZihupDXbgULY"
      },
      "execution_count": null,
      "outputs": []
    },
    {
      "cell_type": "markdown",
      "source": [
        "# Amicable pairs"
      ],
      "metadata": {
        "id": "mVkdXSVCgcvq"
      }
    },
    {
      "cell_type": "markdown",
      "source": [
        "Let $d(n)$ be defined as the sum of proper divisors of $n$ (numbers less than $n$ which divide evenly into $n$).\n",
        "\n",
        "If $d(a) = b$ and $d(b) = a$, where $a \\ne b$, then $a$ and $b$ are an amicable pair and each of $a$ and $b$ are called amicable numbers.\n",
        "\n",
        "For example, the proper divisors of $220$ are $1, 2, 4, 5, 10, 11, 20, 22, 44, 55$ and $110$; therefore $d(220) = 284$. The proper divisors of $284$ are $1, 2, 4, 71$ and $142$; so $d(284) = 220$.\n",
        "\n",
        "Evaluate the sum of all the amicable numbers under $10000$."
      ],
      "metadata": {
        "id": "mRLBiJylg4kU"
      }
    },
    {
      "cell_type": "code",
      "source": [
        "def aliquot(n: int) -> int:\n",
        "    '''aliquot of a number is defined as the sum of proper divisors of N\n",
        "     that is numbers less than N which divide evenly into N.'''\n",
        "    aliq, r = 1, 2\n",
        "    while r * r < n:\n",
        "        if n % r == 0:\n",
        "            aliq += r + (n//r)\n",
        "        r += 1\n",
        "    if (n // r) == r:\n",
        "        aliq += r\n",
        "    return aliq"
      ],
      "metadata": {
        "id": "zzt_M6HthfZP"
      },
      "execution_count": null,
      "outputs": []
    },
    {
      "cell_type": "code",
      "source": [
        "def amicable_pairs(start: int, limit: int) -> list[tuple]:\n",
        "    amicables = []\n",
        "    for n in range(start, limit):\n",
        "        dn = aliquot(n)\n",
        "        if dn > n:\n",
        "            if aliquot(dn) == n:\n",
        "                amicables.append((n, dn))\n",
        "    return amicables"
      ],
      "metadata": {
        "id": "n94Ji8Kqic9G"
      },
      "execution_count": null,
      "outputs": []
    },
    {
      "cell_type": "code",
      "source": [
        "aliquot(220)"
      ],
      "metadata": {
        "id": "MFfhuW6KiS_L"
      },
      "execution_count": null,
      "outputs": []
    },
    {
      "cell_type": "code",
      "source": [
        "aliquot(284)"
      ],
      "metadata": {
        "id": "M4womSDfiUcM"
      },
      "execution_count": null,
      "outputs": []
    },
    {
      "cell_type": "code",
      "source": [
        "amicable_pairs(100, 1000000)"
      ],
      "metadata": {
        "id": "hgejugE0i5um"
      },
      "execution_count": null,
      "outputs": []
    },
    {
      "cell_type": "code",
      "source": [
        "%%timeit\n",
        "amicable_pairs(1, 100000)"
      ],
      "metadata": {
        "id": "6WLgVzNAi8iY"
      },
      "execution_count": null,
      "outputs": []
    },
    {
      "cell_type": "code",
      "source": [
        "14/2"
      ],
      "metadata": {
        "id": "rUvdgbbDjO_V"
      },
      "execution_count": null,
      "outputs": []
    },
    {
      "cell_type": "code",
      "source": [
        "14//2"
      ],
      "metadata": {
        "id": "aAVlaETVk1J2"
      },
      "execution_count": null,
      "outputs": []
    },
    {
      "cell_type": "markdown",
      "source": [
        "# A number is described as A or D or V or P or X.\n",
        "\n",
        "# A $\\Rightarrow$ digits are ascending; eg 1789\n",
        "# D $\\Rightarrow$ digits are descending; eg 421\n",
        "# P $\\Rightarrow$ digits are ascending and then; descending PEAK eg 127532\n",
        "# V $\\Rightarrow$ digits are descending and then ascending VALLEY; eg 973478\n",
        "# X $\\ne$ A or D or P or V\n"
      ],
      "metadata": {
        "id": "Oti0P9VKk3US"
      }
    },
    {
      "cell_type": "code",
      "source": [
        "def is_ascending(n: int) -> bool:\n",
        "    return all([a < b for a, b in zip(str(n), str(n)[1:])])"
      ],
      "metadata": {
        "id": "yX-OqsV8oR5z"
      },
      "execution_count": null,
      "outputs": []
    },
    {
      "cell_type": "code",
      "source": [
        "is_ascending(1789)"
      ],
      "metadata": {
        "id": "6AD0i87_pEB4"
      },
      "execution_count": null,
      "outputs": []
    },
    {
      "cell_type": "code",
      "source": [
        "is_ascending(1729)"
      ],
      "metadata": {
        "id": "SKST6CVLpGgL"
      },
      "execution_count": null,
      "outputs": []
    },
    {
      "cell_type": "code",
      "source": [
        "is_ascending(1227)"
      ],
      "metadata": {
        "id": "3j1GbH88pJqJ"
      },
      "execution_count": null,
      "outputs": []
    },
    {
      "cell_type": "code",
      "source": [
        "def is_descending(n: int) -> bool:\n",
        "    return all([a > b for a, b in zip(str(n), str(n)[1:])])"
      ],
      "metadata": {
        "id": "pbFhEnr6pL8K"
      },
      "execution_count": null,
      "outputs": []
    },
    {
      "cell_type": "code",
      "source": [
        "# Find the bug\n",
        "def is_peak(n: int) -> bool:\n",
        "    s = str(n)\n",
        "    triplets = [a < b > c for a, b, c in zip(s, s[1:], s[2:])]\n",
        "    return len([x for x in triplets if x]) == 1"
      ],
      "metadata": {
        "id": "C5UuFfvAzbns"
      },
      "execution_count": null,
      "outputs": []
    },
    {
      "cell_type": "code",
      "source": [
        "# Find the bug\n",
        "def is_valley(n: int) -> bool:\n",
        "    s = str(n)\n",
        "    triplets = [a > b < c for a, b, c in zip(s, s[1:], s[2:])]\n",
        "    return len([x for x in triplets if x]) == 1"
      ],
      "metadata": {
        "id": "HTL6pX_50bIN"
      },
      "execution_count": null,
      "outputs": []
    },
    {
      "cell_type": "code",
      "source": [
        "def classify(n: int) -> str:\n",
        "    if is_ascending(n):\n",
        "        return 'A'\n",
        "    elif is_descending(n):\n",
        "        return 'D'\n",
        "    elif is_peak(n):\n",
        "        return 'P'\n",
        "    elif is_valley(n):\n",
        "        return 'V'\n",
        "    else:\n",
        "        return 'X'"
      ],
      "metadata": {
        "id": "fH2j693J00wa"
      },
      "execution_count": null,
      "outputs": []
    },
    {
      "cell_type": "code",
      "source": [
        "def is_peak2(n: int) -> bool:\n",
        "    s = str(n)\n",
        "    peak = max(s)\n",
        "    pieces = s.split(peak)\n",
        "    return len(pieces) == 2 and is_ascending(pieces[0]) and is_descending(pieces[1])"
      ],
      "metadata": {
        "id": "_6SN0LB51eq3"
      },
      "execution_count": null,
      "outputs": []
    },
    {
      "cell_type": "code",
      "source": [
        "\"12254\".split('5')"
      ],
      "metadata": {
        "id": "4xM5H1Ri3inm"
      },
      "execution_count": null,
      "outputs": []
    },
    {
      "cell_type": "markdown",
      "source": [
        "# Odometer\n",
        "## 1. Fixed number of digits\n",
        "## 2. Readings CANNOT have digit 0\n",
        "## 3. Digits of readings must be in ascending order\n",
        "## 4. Readings roll over in either direction"
      ],
      "metadata": {
        "id": "dOHdL4Jf3j_6"
      }
    },
    {
      "cell_type": "code",
      "source": [
        "# 347, 348, 349, 356, 357, 358, 359, 367\n",
        "# 4689, 4679, 4678, 4589,\n",
        "\n",
        "# 129 - 146 = 134, 135, 136, 137, 138, 139, 145, 146\n",
        "\n",
        "# next_reading(), next_kth_reading(129, 7)\n",
        "# prev_reading(), prev_kth_reading(459, 56)\n",
        "# distance(a, b)"
      ],
      "metadata": {
        "id": "nD1NsidQ7F6V"
      },
      "execution_count": null,
      "outputs": []
    },
    {
      "cell_type": "code",
      "source": [
        "\n",
        "def last_digit(n:int)-> int:\n",
        "  return n%10\n",
        "\n",
        "def is_ascending(n:int)-> bool:\n",
        "  if n<10:\n",
        "    return True"
      ],
      "metadata": {
        "id": "1ZT8zGz791pE"
      },
      "execution_count": null,
      "outputs": []
    },
    {
      "cell_type": "code",
      "source": [
        "class Odometer:\n",
        "  pass #empty statement ,\n",
        "\n",
        "  #syntacticaly complete class"
      ],
      "metadata": {
        "id": "o7qyh1MwtQ6v"
      },
      "execution_count": null,
      "outputs": []
    },
    {
      "cell_type": "code",
      "source": [
        "p = Odometer()\n",
        "type(p)"
      ],
      "metadata": {
        "id": "vbw-5fh8tZEQ"
      },
      "execution_count": null,
      "outputs": []
    },
    {
      "cell_type": "code",
      "source": [
        "class Odometer:\n",
        "  def __init__(self,size):\n",
        "    self.size =size\n",
        "    self.LO = int(\"123456789\"[:size])\n",
        "    self.HI = int(\"123456789\"[-size:])\n",
        "    self.reading = self.LO\n",
        "\n",
        "  #dundder Method\n",
        "  def __str__(self)-> str:\n",
        "    return str(self.size)\n",
        "# __repr__ representation\n",
        "  def __repr__(self)-> str:\n",
        "    #f string >> values of varianle interpolated in string\n",
        "    return f'{self.LO}<<{self.reading}>>{self.HI}'\n",
        "\n",
        "#checking is reading is in ascending or not\n",
        "  def is_valid(self,n:int)->bool:\n",
        "    s= str(n)\n",
        "    print(f'is_valid >> {s}')\n",
        "    return all([a<b for a,b in zip(s,s[1:])])\n",
        "\n",
        "  def forward(self, step:int=1):\n",
        "    for _ in range(step):\n",
        "      if self.reading == self.HI:\n",
        "        self.reading = self.LO\n",
        "      else:\n",
        "        self.reading +=1\n",
        "        while not self.is_valid(self.reading):\n",
        "          self.reading+=1\n",
        "\n",
        "  def backward(self, step:int=1):\n",
        "    for _ in range(step):\n",
        "      if self.reading == self.HI:\n",
        "        self.reading = self.LO\n",
        "      else:\n",
        "        self.reading-=1\n",
        "        while not self.is_valid(self.reading):\n",
        "          self.reading-=1\n",
        "\n",
        "  def distance(self, other) -> int:\n",
        "        if self.size != other.size:\n",
        "            return -1\n",
        "        dist = 0\n",
        "        # new copy object which is copy of odometer object\n",
        "        copy = Odometer(self.size)\n",
        "        print(f'self reading {self.reading}')\n",
        "        # making the copy object exact replica of old odometer object\n",
        "        copy.reading = self.reading\n",
        "        while copy.reading != other.reading:\n",
        "            print(f'other reading {other.reading}')\n",
        "            print(f'self reading {self.reading}')\n",
        "            print(f'copy reading {copy.reading} \\n')\n",
        "            dist += 1\n",
        "            copy.forward()\n",
        "        return dist\n",
        "\n",
        "#initialising class\n",
        "# in python does not take anything implicitly so need to provide explicitly\n",
        "# only __init__ method is not used, but it is good idea to do in __init__"
      ],
      "metadata": {
        "id": "yAJRKXCwtvka"
      },
      "execution_count": null,
      "outputs": []
    },
    {
      "cell_type": "code",
      "source": [
        "p1 = Odometer(4)\n",
        "p1.forward()\n",
        "p2 = Odometer(4)\n",
        "p2.backward(3)\n",
        "p3 = Odometer(3)"
      ],
      "metadata": {
        "id": "3p30xPRfu3wJ"
      },
      "execution_count": null,
      "outputs": []
    },
    {
      "cell_type": "code",
      "source": [
        "p4=Odometer(4)\n",
        "p4.forward(6)"
      ],
      "metadata": {
        "id": "XmXOcaVCNek8"
      },
      "execution_count": null,
      "outputs": []
    },
    {
      "cell_type": "code",
      "source": [
        "print(repr(p))"
      ],
      "metadata": {
        "id": "m9xFRslUxz4G"
      },
      "execution_count": null,
      "outputs": []
    },
    {
      "cell_type": "code",
      "source": [
        "p.forward()\n",
        "print(p)"
      ],
      "metadata": {
        "id": "vK8k9ZicC-xh"
      },
      "execution_count": null,
      "outputs": []
    },
    {
      "cell_type": "code",
      "source": [
        "p.forward(7)\n",
        "print(p)"
      ],
      "metadata": {
        "id": "IH-JjyyODAjS"
      },
      "execution_count": null,
      "outputs": []
    },
    {
      "cell_type": "code",
      "source": [
        "getNumberList = lambda digits: [x for x in range(10**(digits-1),10**digits) if is_ascending(x)]"
      ],
      "metadata": {
        "id": "QhmAjKRalO9A"
      },
      "execution_count": null,
      "outputs": []
    },
    {
      "cell_type": "code",
      "source": [
        "class Odometer:\n",
        "    def __init__(self, size):\n",
        "        self.size = size\n",
        "        self.LO = int(\"123456789\"[:size])\n",
        "        self.HI = int(\"123456789\"[-size:])\n",
        "        self.reading = self.LO\n",
        "\n",
        "    def __str__(self) -> str:\n",
        "        return str(self.reading)\n",
        "\n",
        "    def __repr__(self) -> str:\n",
        "        return f'{self.LO} << {self.reading} >> {self.HI}'\n",
        "\n",
        "    @staticmethod #this tells\n",
        "    def is_Asc(n: int) -> bool:\n",
        "        s = str(n)\n",
        "        return all([a < b for a, b in zip(s, s[1:])])\n",
        "\n",
        "    def forward(self, step: int = 1):\n",
        "        for _ in range(step):\n",
        "            if self.reading == self.HI:\n",
        "                self.reading = self.LO\n",
        "            else:\n",
        "                self.reading += 1\n",
        "                while not self.is_Asc(self.reading):\n",
        "                    self.reading += 1\n",
        "\n",
        "    def backward(self, step: int = 1):\n",
        "        for _ in range(step):\n",
        "            if self.reading == self.LO:\n",
        "                self.reading = self.HI\n",
        "            else:\n",
        "                self.reading -= 1\n",
        "                while not self.is_Asc(self.reading):\n",
        "                    self.reading -= 1\n",
        "\n",
        "    def distance(self, other: Odometer) -> int:\n",
        "        if self.size != other.size:\n",
        "            return -1\n",
        "        dist = 0\n",
        "        copy = Odometer(self.size)\n",
        "        copy.reading = self.reading\n",
        "        while copy.reading != other.reading:\n",
        "            dist += 1\n",
        "            copy.forward()\n",
        "        return dist"
      ],
      "metadata": {
        "id": "1ZvcDJVQi4p0"
      },
      "execution_count": null,
      "outputs": []
    },
    {
      "cell_type": "code",
      "source": [
        "from itertools import combinations as nCr"
      ],
      "metadata": {
        "id": "Ozewc6xdlgX4"
      },
      "execution_count": null,
      "outputs": []
    },
    {
      "cell_type": "code",
      "source": [
        "two = nCr(\"123456789\",2)"
      ],
      "metadata": {
        "id": "LHocrbAQlmFh"
      },
      "execution_count": null,
      "outputs": []
    },
    {
      "cell_type": "code",
      "source": [
        "print(two)"
      ],
      "metadata": {
        "id": "a-sKk5E-ls4U"
      },
      "execution_count": null,
      "outputs": []
    },
    {
      "cell_type": "code",
      "source": [
        "print(list(two))"
      ],
      "metadata": {
        "id": "uvzh1o7Zlxwk"
      },
      "execution_count": null,
      "outputs": []
    },
    {
      "cell_type": "code",
      "source": [
        "three = [''.join(_) for _ in nCr(\"123456789\",3)]"
      ],
      "metadata": {
        "id": "6Cm3Z2qomBXn"
      },
      "execution_count": null,
      "outputs": []
    },
    {
      "cell_type": "code",
      "source": [
        "print(three)"
      ],
      "metadata": {
        "id": "vAG1D79YmN_h"
      },
      "execution_count": null,
      "outputs": []
    },
    {
      "cell_type": "code",
      "source": [
        "all_readings={}\n",
        "for r in range(2,9):\n",
        "  all_readings[r] = [''.join(_) for _ in nCr(\"123456789\",r)]"
      ],
      "metadata": {
        "id": "ZfW-rZWNmyHv"
      },
      "execution_count": null,
      "outputs": []
    },
    {
      "cell_type": "code",
      "source": [
        "print(all_readings)"
      ],
      "metadata": {
        "id": "dttTzhYbnDTB"
      },
      "execution_count": null,
      "outputs": []
    },
    {
      "cell_type": "code",
      "source": [
        "#class varibale >> which are defined only once\n",
        "class Odometer:\n",
        "  #this FIRST_TIME variable will be false once the Odometer class called first time\n",
        "  FIRST_TIME = True\n",
        "  all_readings=dict()\n",
        "\n",
        "  def __init__(self,size:int):\n",
        "    #executes only once\n",
        "    if Odometer.FIRST_TIME:\n",
        "      print('Generate readings')\n",
        "      #this FIRST_TIME variable will be false once the Odometer class called first time\n",
        "      Odometer.FIRST_TIME=False\n",
        "      for r in range(2,9):\n",
        "        Odometer.all_readings[r]=[''.join(_) for _ in nCr(\"123456789\",r)]\n",
        "\n",
        "    self.size = size\n",
        "    self.readings=Odometer.all_readings[size]\n",
        "    self.pos=0\n",
        "    self.LO,self.HI = self.readings[0],self.readings[-1]\n",
        "    self.length = len(self.readings)\n",
        "\n",
        "  def __str__(self)-> str:\n",
        "    return self.readings[self.pos]\n",
        "\n",
        "  def __repr__(self)-> str:\n",
        "    return f'{self.pos} of {self.length}'\n",
        "\n",
        "  def forward(self,step:int=1):\n",
        "    self.pos += step\n",
        "    self.pos %=self.length\n",
        "\n",
        "  def backward(self, step:int=1):\n",
        "    self.pos-=step\n",
        "    self.pos%=self.length\n",
        "\n",
        "  def distance(self,other:Odometer)->int:\n",
        "    if self.size !=other.size:\n",
        "      return -1\n",
        "\n",
        "    if self.pos<=other.pos:\n",
        "      return other.pos - self.pos\n",
        "    else:\n",
        "      return self.length-self.pos+other.pos\n",
        "\n"
      ],
      "metadata": {
        "id": "7XaE_T_7mxXn"
      },
      "execution_count": null,
      "outputs": []
    },
    {
      "cell_type": "code",
      "source": [
        "o = Odometer(3)"
      ],
      "metadata": {
        "id": "_AV6GurCspY5"
      },
      "execution_count": null,
      "outputs": []
    },
    {
      "cell_type": "code",
      "source": [
        "p = Odometer(3)"
      ],
      "metadata": {
        "id": "ROYIs8s_s6AF"
      },
      "execution_count": null,
      "outputs": []
    },
    {
      "cell_type": "code",
      "source": [
        "o.greeting = 'Hello world'#monkey patching"
      ],
      "metadata": {
        "id": "IDok6ae_wkVC"
      },
      "execution_count": null,
      "outputs": []
    },
    {
      "cell_type": "code",
      "source": [
        "o.greeting"
      ],
      "metadata": {
        "id": "WVwxIP0wwujF"
      },
      "execution_count": null,
      "outputs": []
    },
    {
      "cell_type": "code",
      "source": [
        "o.forward(3)"
      ],
      "metadata": {
        "id": "YSeJy8zxyeya"
      },
      "execution_count": null,
      "outputs": []
    },
    {
      "cell_type": "code",
      "source": [
        "p.forward(6)\n",
        "p.distance(o)"
      ],
      "metadata": {
        "id": "H_s_VC-cyphz"
      },
      "execution_count": null,
      "outputs": []
    },
    {
      "cell_type": "code",
      "source": [
        "class Interval:\n",
        "  def __init__(self,start:int,limit:int):\n",
        "    self.start = start\n",
        "    self.limit = limit\n",
        "\n",
        "  def overLap(self,overLapWith):\n",
        "    x = list(range(self.start,self.limit))\n",
        "    y = list(range(min(overLapWith),max(overLapWith)))\n",
        "    return range(max(x[0],y[0]),min(x[-1],y[-1])+1)\n",
        "\n",
        "  def mergeRange(self,mergeWith:range):\n",
        "    x_set=set(range(self.start,self.limit))\n",
        "    m_set = set(mergeWith)\n",
        "    return x_set.union(m_set)\n",
        "\n",
        "\n",
        "\n",
        "\n",
        "\n"
      ],
      "metadata": {
        "id": "dyPBn3nACDnW"
      },
      "execution_count": null,
      "outputs": []
    },
    {
      "cell_type": "code",
      "source": [
        "i = Interval(1,10)\n",
        "i.overLap((7,9))\n",
        "i.mergeRange(range(7,12))"
      ],
      "metadata": {
        "id": "GkkqRt68E8B4"
      },
      "execution_count": null,
      "outputs": []
    }
  ]
}