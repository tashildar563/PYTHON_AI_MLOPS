{
  "nbformat": 4,
  "nbformat_minor": 0,
  "metadata": {
    "colab": {
      "provenance": [],
      "include_colab_link": true
    },
    "kernelspec": {
      "name": "python3",
      "display_name": "Python 3"
    },
    "language_info": {
      "name": "python"
    }
  },
  "cells": [
    {
      "cell_type": "markdown",
      "metadata": {
        "id": "view-in-github",
        "colab_type": "text"
      },
      "source": [
        "<a href=\"https://colab.research.google.com/github/tashildar563/PYTHON_AI_MLOPS/blob/python/Copy_of_PNB_5_Strings.ipynb\" target=\"_parent\"><img src=\"https://colab.research.google.com/assets/colab-badge.svg\" alt=\"Open In Colab\"/></a>"
      ]
    },
    {
      "cell_type": "markdown",
      "source": [
        "## Practice Notebook"
      ],
      "metadata": {
        "id": "12wF6gUYT_We"
      }
    },
    {
      "cell_type": "markdown",
      "source": [
        "## Strings\n",
        "\n",
        "A string is a series of characters. In Python, anything inside \"quotes\" is a string. You can either use 'single quotes' or \"double quotes\".\n",
        "\n",
        "For more info, refer [here](https://www.w3schools.com/python/python_strings.asp)."
      ],
      "metadata": {
        "id": "OJx1Dus7hHsx"
      }
    },
    {
      "cell_type": "markdown",
      "source": [
        "####Exercise 1:\n",
        "\n",
        "Declare the values of a string variable to be 'Tests, Quizzes, Individual Labs, Group Labs and Hackathons'.\n",
        "\n",
        "\n",
        "Print the string."
      ],
      "metadata": {
        "id": "dN-JN2GeYNzP"
      }
    },
    {
      "cell_type": "code",
      "source": [
        "# YOUR CODE HERE\n",
        "process = 'Test, Quizzes, individual Labs, Group Labs and Hackathons.'\n",
        "print(process)"
      ],
      "metadata": {
        "id": "PvmSKSuCYAzn",
        "colab": {
          "base_uri": "https://localhost:8080/"
        },
        "outputId": "64db5a3b-3c76-440a-d3cf-9b64151e1f25"
      },
      "execution_count": null,
      "outputs": [
        {
          "output_type": "stream",
          "name": "stdout",
          "text": [
            "Test, Quizzes, individual Labs, Group Labs and Hackathons.\n"
          ]
        }
      ]
    },
    {
      "cell_type": "markdown",
      "source": [
        "####Exercise 2:\n",
        "\n",
        "Declare the values of a string variable to be \"I need Tables, Chairs, Cupboards\", in double qoutes.\n",
        "\n",
        "Print the string."
      ],
      "metadata": {
        "id": "_5P3baVHXixq"
      }
    },
    {
      "cell_type": "code",
      "execution_count": null,
      "metadata": {
        "id": "TRkcTF71T1PO",
        "colab": {
          "base_uri": "https://localhost:8080/"
        },
        "outputId": "366cf8b6-7faf-449b-f8c9-36a5d8e2d4f6"
      },
      "outputs": [
        {
          "output_type": "stream",
          "name": "stdout",
          "text": [
            "I need Tables, Chairs, Cupboards\n"
          ]
        }
      ],
      "source": [
        "# YOUR CODE HERE\n",
        "furniture = \"I need Tables, Chairs, Cupboards\"\n",
        "print(furniture)"
      ]
    },
    {
      "cell_type": "markdown",
      "source": [
        "####Exercise 3:\n",
        "\n",
        "Concatenate the two string variables declared in Exercise 1 and Exercise 2."
      ],
      "metadata": {
        "id": "-_F548p0cm-Y"
      }
    },
    {
      "cell_type": "code",
      "source": [
        "# YOUR CODE HERE\n",
        "concat_string = process+furniture\n",
        "print(concat_string)"
      ],
      "metadata": {
        "id": "JEdJQUBkcUHe",
        "colab": {
          "base_uri": "https://localhost:8080/"
        },
        "outputId": "cdb45c8c-d926-4cad-eabf-12b54044cebc"
      },
      "execution_count": null,
      "outputs": [
        {
          "output_type": "stream",
          "name": "stdout",
          "text": [
            "Test, Quizzes, individual Labs, Group Labs and Hackathons.I need Tables, Chairs, Cupboards\n"
          ]
        }
      ]
    },
    {
      "cell_type": "markdown",
      "source": [
        "####Exercise 4:\n",
        "\n",
        "Write a short note on any topic in python and print the note using single `print` statement."
      ],
      "metadata": {
        "id": "BsMn8suiZSMr"
      }
    },
    {
      "cell_type": "code",
      "source": [
        "# YOUR CODE HERE\n",
        "note = 'Concatenate the two string variables declared in Exercise 1 and Exercise 2. Concatenate the two string variables declared in Exercise 1 and Exercise 2. '\n",
        "\n",
        "print(note)"
      ],
      "metadata": {
        "id": "ndGfCaAMZEyj",
        "colab": {
          "base_uri": "https://localhost:8080/"
        },
        "outputId": "58905ca9-a042-435f-a156-18d7611c83ba"
      },
      "execution_count": null,
      "outputs": [
        {
          "output_type": "stream",
          "name": "stdout",
          "text": [
            "Concatenate the two string variables declared in Exercise 1 and Exercise 2. Concatenate the two string variables declared in Exercise 1 and Exercise 2. \n"
          ]
        }
      ]
    },
    {
      "cell_type": "markdown",
      "source": [
        "####Exercise 5:\n",
        "\n",
        "* Concatenate the output of the string in Exercise 3 and output of the string in Exercise 1.\n",
        "* Print the length of the concatenated string.\n"
      ],
      "metadata": {
        "id": "bpzOBwWjdUbO"
      }
    },
    {
      "cell_type": "code",
      "source": [
        "# YOUR CODE HERE\n",
        "lengthOfStr = concat_string+process\n",
        "print(len(lengthOfStr))"
      ],
      "metadata": {
        "id": "ScREMvsJd4Ig",
        "colab": {
          "base_uri": "https://localhost:8080/"
        },
        "outputId": "93d51284-0cca-47a7-b909-b631557149c0"
      },
      "execution_count": null,
      "outputs": [
        {
          "output_type": "stream",
          "name": "stdout",
          "text": [
            "148\n"
          ]
        }
      ]
    },
    {
      "cell_type": "markdown",
      "source": [
        "#### Exercies 6:\n",
        "\n",
        "Perform simple string operations for A = \"Hello\", B = \"world!\":\n",
        " * Concatenate by +.\n",
        " * Multiple concatenation by *  (ex: 4 * A + \" \" * 3 + B * 2).\n",
        " * Check for substring with `in`.\n",
        " * Determine the size (number of characters) using `len`."
      ],
      "metadata": {
        "id": "zrvj2kICovvo"
      }
    },
    {
      "cell_type": "code",
      "source": [
        "# YOUR CODE HERE\n",
        "a = 'Hello'\n",
        "b='World!'\n",
        "c = a+b\n",
        "d = c*2 + a*9\n",
        "if 'Hello' in c:\n",
        "  print(True)\n",
        "\n",
        "print(len(d))"
      ],
      "metadata": {
        "id": "mUwqIlhnpBPe",
        "colab": {
          "base_uri": "https://localhost:8080/"
        },
        "outputId": "710b837c-e5f4-4ca1-945c-1a723cdd4387"
      },
      "execution_count": null,
      "outputs": [
        {
          "output_type": "stream",
          "name": "stdout",
          "text": [
            "True\n",
            "67\n"
          ]
        }
      ]
    },
    {
      "cell_type": "markdown",
      "source": [
        "####Exercies 7:\n",
        "\n",
        "For the given variable name = 'hELLO, WORLD!', perform the following:\n",
        "* Print the character '!'.\n",
        "* Convert the string to lowercase.\n",
        "* Print the first character in upper case.\n",
        "* Print a string where all the upper case letters are lower case and vice versa.\n"
      ],
      "metadata": {
        "id": "t_RU_DjFqMF-"
      }
    },
    {
      "cell_type": "code",
      "source": [
        "name = 'hELLO, WORLD!'\n",
        "# YOUR CODE HERE\n",
        "if '!' in name:\n",
        "    print('!')\n",
        "lName = name.lower()\n",
        "print(lName)\n",
        "u=\"\"\n",
        "for i in name:\n",
        "  if i.islower():\n",
        "      ui=i.upper()\n",
        "      u+=ui\n",
        "  else:\n",
        "      u+=i\n",
        "\n",
        "print(u)\n"
      ],
      "metadata": {
        "id": "JeDkZaQxpamY",
        "colab": {
          "base_uri": "https://localhost:8080/"
        },
        "outputId": "8c42a7b7-5606-45f6-bcd2-1ae6155511bd"
      },
      "execution_count": 17,
      "outputs": [
        {
          "output_type": "stream",
          "name": "stdout",
          "text": [
            "!\n",
            "hello, world!\n",
            "HELLO, WORLD!\n"
          ]
        }
      ]
    },
    {
      "cell_type": "code",
      "source": [
        "# The lower() method returns a string converted to lowercase.\n",
        "# YOUR CODE HERE"
      ],
      "metadata": {
        "id": "B8n5iU_-snKH"
      },
      "execution_count": null,
      "outputs": []
    },
    {
      "cell_type": "code",
      "source": [
        "# YOUR CODE HERE"
      ],
      "metadata": {
        "id": "8d0wOfi3Zsd-"
      },
      "execution_count": null,
      "outputs": []
    },
    {
      "cell_type": "code",
      "source": [
        "# YOUR CODE HERE"
      ],
      "metadata": {
        "id": "hYOmJNw4aOL9"
      },
      "execution_count": null,
      "outputs": []
    },
    {
      "cell_type": "markdown",
      "source": [
        "#### Exercies 8:\n",
        "\n",
        "For a given string, perform the following:\n",
        "* Using `for` to iterate over a string in Python.\n",
        "* Print the number of times the letter/character ‘s’ appears in a string."
      ],
      "metadata": {
        "id": "3wNoT59o2HAi"
      }
    },
    {
      "cell_type": "code",
      "source": [
        "# YOUR CODE HERE\n",
        "def charCount(character,givenString):\n",
        "    count=0\n",
        "    for i in givenString:\n",
        "        if i==character:\n",
        "          count+=1\n",
        "    return count\n",
        "\n",
        "countChar = charCount(\"s\",\"Using for to iterate over a string in Python.\")\n",
        "print(charCount(\"r\",\"Using for to iterate over a string in Python.\"))"
      ],
      "metadata": {
        "id": "C52n7pwL0_dZ",
        "colab": {
          "base_uri": "https://localhost:8080/"
        },
        "outputId": "eb6065bf-f0bb-4f0d-8e84-43474c04246f"
      },
      "execution_count": 25,
      "outputs": [
        {
          "output_type": "stream",
          "name": "stdout",
          "text": [
            "4\n"
          ]
        }
      ]
    },
    {
      "cell_type": "code",
      "source": [
        "# YOUR CODE HERE"
      ],
      "metadata": {
        "id": "5zjqFGxI3Epa"
      },
      "execution_count": null,
      "outputs": []
    },
    {
      "cell_type": "markdown",
      "source": [
        "#### Exercies 9:\n",
        "\n",
        "For a given list, perform the following:\n",
        "\n",
        "* Print the list in reverse oder.\n",
        "\n",
        "* Print the following my_list[-1].\n",
        "\n",
        "* Print the following output  [2, 33, 222, 14] using slice method."
      ],
      "metadata": {
        "id": "LelhQmty6yac"
      }
    },
    {
      "cell_type": "code",
      "source": [
        "my_list = [2, 33, 222, 14, 25]\n",
        "# YOUR CODE HERE\n",
        "print(my_list[::-2])"
      ],
      "metadata": {
        "id": "62p4fL9g-5rH",
        "colab": {
          "base_uri": "https://localhost:8080/"
        },
        "outputId": "d50faa66-04b4-405a-d3f8-43afc1c9e10b"
      },
      "execution_count": 35,
      "outputs": [
        {
          "output_type": "stream",
          "name": "stdout",
          "text": [
            "[25, 222, 2]\n"
          ]
        }
      ]
    },
    {
      "cell_type": "code",
      "source": [
        "my_list = [2, 33, 222, 14, 25]\n",
        "# YOUR CODE HERE\n",
        "print(my_list[-1])"
      ],
      "metadata": {
        "id": "2-tNVH8R4lIC",
        "colab": {
          "base_uri": "https://localhost:8080/"
        },
        "outputId": "0c131ea3-42b2-4352-8e61-ed9248a13ba3"
      },
      "execution_count": 36,
      "outputs": [
        {
          "output_type": "stream",
          "name": "stdout",
          "text": [
            "25\n"
          ]
        }
      ]
    },
    {
      "cell_type": "code",
      "source": [
        "my_list = [2, 33, 222, 14, 25]\n",
        "# YOUR CODE HERE\n",
        "print(my_list[:-1])"
      ],
      "metadata": {
        "id": "HTkPuU97-x0C",
        "colab": {
          "base_uri": "https://localhost:8080/"
        },
        "outputId": "f26f0047-6a1c-40cd-f58c-e37e05ee2d35"
      },
      "execution_count": 38,
      "outputs": [
        {
          "output_type": "stream",
          "name": "stdout",
          "text": [
            "[2, 33, 222, 14]\n"
          ]
        }
      ]
    },
    {
      "cell_type": "markdown",
      "source": [
        "#### Exercies 10:\n",
        "\n",
        "For the given string, perform following methods:\n",
        "\n",
        "* Split the string by using 'word.split' and print the result.\n",
        "* Replace MachineLearning by Python using `.replace()`."
      ],
      "metadata": {
        "id": "iXRD9t9QaXRF"
      }
    },
    {
      "cell_type": "code",
      "source": [
        "instr='YOUR CODE HERE'\n",
        "newInstr = instr.split()\n",
        "print(newInstr)\n"
      ],
      "metadata": {
        "id": "qWaaIZ5EVz-_",
        "colab": {
          "base_uri": "https://localhost:8080/"
        },
        "outputId": "90430f3b-ec48-4cb1-a9e1-0e0767ef0f6c"
      },
      "execution_count": 41,
      "outputs": [
        {
          "output_type": "stream",
          "name": "stdout",
          "text": [
            "['YOUR', 'CODE', 'HERE']\n"
          ]
        }
      ]
    },
    {
      "cell_type": "code",
      "source": [
        "# YOUR CODE HERE\n",
        "instr='MachineLearning'\n",
        "newInstar = instr.replace('MachineLearning','Python')\n",
        "print(newInstar)\n"
      ],
      "metadata": {
        "id": "TIyyhrYrV15M",
        "colab": {
          "base_uri": "https://localhost:8080/"
        },
        "outputId": "e3ab558a-f535-4cb6-e4b8-c256dcba882c"
      },
      "execution_count": 43,
      "outputs": [
        {
          "output_type": "stream",
          "name": "stdout",
          "text": [
            "Python\n"
          ]
        }
      ]
    }
  ]
}